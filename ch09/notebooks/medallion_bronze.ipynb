{
 "cells": [
  {
   "cell_type": "code",
   "execution_count": 1,
   "id": "3428fd74-3f86-46c7-8a14-02be5228dc68",
   "metadata": {
    "tags": []
   },
   "outputs": [],
   "source": [
    "from pyspark.sql.functions import col, to_date\n",
    "from pyspark.sql.streaming import DataStreamReader, DataStreamWriter\n",
    "\n",
    "from typing import Dict"
   ]
  },
  {
   "cell_type": "markdown",
   "id": "e372eee9-4ab3-4178-858a-a4be87b18318",
   "metadata": {},
   "source": [
    "## Kafka Source\n",
    "The kafka broker is running in the docker container.\n",
    "~~~\n",
    "kafka.brokers=PLAINTEXT://kafka-rp:29092\n",
    "kafka.topic=ecomm.v1.clickstream\n",
    "kafka.group.id=delta-dldg-1\n",
    "~~~\n",
    "\n",
    "> the kafka jars are loaded using the `startup.sh` in the docker compose.\n",
    "\n"
   ]
  },
  {
   "cell_type": "code",
   "execution_count": 11,
   "id": "e3010ae5-074c-4615-be5f-deb80a502ea0",
   "metadata": {
    "tags": []
   },
   "outputs": [],
   "source": [
    "# example 11-3\n",
    "\n",
    "reader_opts: Dict[str, str] = {\n",
    "    \"subscribe\": \"ecomm.v1.clickstream\",\n",
    "    \"startingOffsets\": \"earliest\",\n",
    "    \"minPartitions\": \"4\",\n",
    "    \"kafka.bootstrap.servers\": \"PLAINTEXT://kafka-rp:29092\",\n",
    "    \"groupIdPrefix\": \"delta-dldg-1\"\n",
    "}\n",
    "writer_opts: Dict[str, str] = {\n",
    "    \"checkpointLocation\": \"/opt/spark/work-dir/data/medallion_1/_checkpoints\",\n",
    "    \"mergeSchema\": \"false\",\n",
    "    \"overwriteSchema\": \"false\",\n",
    "    \"path\": \"/opt/spark/work-dir/data/delta/bronze_raw/\"\n",
    "}\n",
    "\n",
    "kafka_source_df: DataStreamReader = (\n",
    "    spark.readStream\n",
    "    .options(**reader_opts)\n",
    "    .format(\"kafka\")\n",
    ")\n",
    "\n",
    "bronze_layer_stream: DataStreamWriter = (\n",
    "    kafka_source_df.load()\n",
    "    .select(col(\"key\"),col(\"value\"),col(\"topic\"),col(\"timestamp\"))\n",
    "    .withColumn(\"event_date\", to_date(col(\"timestamp\")))\n",
    "    .writeStream\n",
    "    .format('delta')\n",
    "    .options(**writer_opts)\n",
    "    .partitionBy(\"event_date\")\n",
    "    .trigger(availableNow=True)\n",
    ")"
   ]
  },
  {
   "cell_type": "code",
   "execution_count": 12,
   "id": "5d2aa21b-7adf-473b-9e90-01621629daf3",
   "metadata": {},
   "outputs": [
    {
     "name": "stdout",
     "output_type": "stream",
     "text": [
      "23/10/08 22:14:06 WARN ResolveWriteToStream: spark.sql.adaptive.enabled is not supported in streaming DataFrames/Datasets and will be disabled.\n"
     ]
    }
   ],
   "source": [
    "streaming_query = bronze_layer_stream.start()"
   ]
  },
  {
   "cell_type": "code",
   "execution_count": 13,
   "id": "a6134ad6-9fc8-465b-abab-52c86eda2054",
   "metadata": {
    "tags": []
   },
   "outputs": [
    {
     "data": {
      "text/plain": [
       "{'message': 'Stopped', 'isDataAvailable': False, 'isTriggerActive': False}"
      ]
     },
     "execution_count": 13,
     "metadata": {},
     "output_type": "execute_result"
    }
   ],
   "source": [
    "streaming_query.status"
   ]
  },
  {
   "cell_type": "code",
   "execution_count": 14,
   "id": "9a4b4451-4213-41bc-9b0a-74ade86e5b4c",
   "metadata": {
    "tags": []
   },
   "outputs": [
    {
     "data": {
      "text/plain": [
       "{'id': '6212ab34-c7ea-4ab0-9ad1-fd0f06102ae5',\n",
       " 'runId': '7a30b22a-40ba-481d-b4c1-de043fdc1546',\n",
       " 'name': None,\n",
       " 'timestamp': '2023-10-08T22:14:06.383Z',\n",
       " 'batchId': 2,\n",
       " 'numInputRows': 0,\n",
       " 'inputRowsPerSecond': 0.0,\n",
       " 'processedRowsPerSecond': 0.0,\n",
       " 'durationMs': {'latestOffset': 0, 'triggerExecution': 17},\n",
       " 'stateOperators': [],\n",
       " 'sources': [{'description': 'KafkaV2[Subscribe[ecomm.v1.clickstream]]',\n",
       "   'startOffset': {'ecomm.v1.clickstream': {'0': 2}},\n",
       "   'endOffset': {'ecomm.v1.clickstream': {'0': 2}},\n",
       "   'latestOffset': {'ecomm.v1.clickstream': {'0': 2}},\n",
       "   'numInputRows': 0,\n",
       "   'inputRowsPerSecond': 0.0,\n",
       "   'processedRowsPerSecond': 0.0,\n",
       "   'metrics': {'avgOffsetsBehindLatest': '0.0',\n",
       "    'maxOffsetsBehindLatest': '0',\n",
       "    'minOffsetsBehindLatest': '0'}}],\n",
       " 'sink': {'description': 'DeltaSink[/opt/spark/work-dir/data/delta/bronze_raw]',\n",
       "  'numOutputRows': -1}}"
      ]
     },
     "execution_count": 14,
     "metadata": {},
     "output_type": "execute_result"
    }
   ],
   "source": [
    "streaming_query.lastProgress"
   ]
  },
  {
   "cell_type": "code",
   "execution_count": 15,
   "id": "fca8bdc4-066a-49f3-b58d-f96d244c7871",
   "metadata": {
    "tags": []
   },
   "outputs": [],
   "source": [
    "streaming_query.stop()\n"
   ]
  },
  {
   "cell_type": "code",
   "execution_count": null,
   "id": "38c610bb-bb2c-4012-8c11-f66920fb1356",
   "metadata": {},
   "outputs": [],
   "source": []
  }
 ],
 "metadata": {
  "kernelspec": {
   "display_name": "Python 3 (ipykernel)",
   "language": "python",
   "name": "python3"
  },
  "language_info": {
   "codemirror_mode": {
    "name": "ipython",
    "version": 3
   },
   "file_extension": ".py",
   "mimetype": "text/x-python",
   "name": "python",
   "nbconvert_exporter": "python",
   "pygments_lexer": "ipython3",
   "version": "3.9.2"
  }
 },
 "nbformat": 4,
 "nbformat_minor": 5
}
