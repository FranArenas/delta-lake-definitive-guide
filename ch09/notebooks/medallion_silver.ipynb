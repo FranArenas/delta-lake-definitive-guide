{
 "cells": [
  {
   "cell_type": "code",
   "execution_count": 79,
   "id": "73943834-e2be-451b-be0a-08b79165cdcc",
   "metadata": {
    "tags": []
   },
   "outputs": [],
   "source": [
    "from delta.tables import DeltaTable\n",
    "from pyspark.sql import DataFrame\n",
    "from pyspark.sql.types import StructType, StructField, DateType, TimestampType, StringType, LongType, IntegerType, FloatType\n",
    "from pyspark.sql.functions import col, when, lit, from_json, count, sum, min, max, avg, desc"
   ]
  },
  {
   "cell_type": "code",
   "execution_count": 78,
   "id": "64c77194-907f-4fb1-8f3f-afcc2e96e69f",
   "metadata": {
    "tags": []
   },
   "outputs": [],
   "source": [
    "# example 11-5\n",
    "bronze_table_path = '/opt/spark/work-dir/data/delta/bronze_raw/'\n",
    "dt_bronze_source: DeltaTable = DeltaTable.forPath(spark, bronze_table_path)\n"
   ]
  },
  {
   "cell_type": "code",
   "execution_count": 44,
   "id": "8065955e-64e6-4151-b23e-b913f274d2f7",
   "metadata": {
    "tags": []
   },
   "outputs": [
    {
     "name": "stdout",
     "output_type": "stream",
     "text": [
      "+----+--------------------+--------------------+--------------------+----------+\n",
      "| key|               value|               topic|           timestamp|event_date|\n",
      "+----+--------------------+--------------------+--------------------+----------+\n",
      "|null|[7B 22 65 76 65 6...|ecomm.v1.clickstream|2023-10-08 22:09:...|2023-10-08|\n",
      "+----+--------------------+--------------------+--------------------+----------+\n",
      "\n"
     ]
    }
   ],
   "source": [
    "bronze_df = dt_bronze_source.toDF()\n",
    "bronze_df.limit(1).show()"
   ]
  },
  {
   "cell_type": "code",
   "execution_count": 45,
   "id": "4ab25cf3-6cd6-4379-a975-8ad048c009fa",
   "metadata": {
    "tags": []
   },
   "outputs": [
    {
     "name": "stdout",
     "output_type": "stream",
     "text": [
      "root\n",
      " |-- key: binary (nullable = true)\n",
      " |-- value: binary (nullable = true)\n",
      " |-- topic: string (nullable = true)\n",
      " |-- timestamp: timestamp (nullable = true)\n",
      " |-- event_date: date (nullable = true)\n",
      "\n"
     ]
    }
   ],
   "source": [
    "bronze_df.printSchema()"
   ]
  },
  {
   "cell_type": "markdown",
   "id": "b50c447c-d119-4242-9c54-e0253e376927",
   "metadata": {},
   "source": [
    "## Testing Transformations in Batch\n",
    "> Tip: Before we dive into full end-to-end streaming, we can attack the problem in batch.\n",
    "\n",
    "Once things are working as expected. We can consolidate the transformation steps and logic into a `transform` method with the signature `def transform_[some_qualifier](df: DataFrame) -> DataFrame:`. This lets us easily apply specific transformations in our pipelines that are a) testable, and b) easy to follow if looking directly at the pipeline.\n",
    "\n",
    "~~~python\n",
    "medallion_stream = (\n",
    "    delta_source.readStream\n",
    "    .options(**reader_options)\n",
    "    .format(\"delta\")\n",
    "    .load()\n",
    "    .transform(transform_from_json)\n",
    "    .transform(transform_for_silver)\n",
    "    .writeStream\n",
    "    .format(\"delta\")\n",
    "    .options(**writer_options))\n",
    "\n",
    "streaming_query = medallion_stream.toTable(f\"{managed_table_name}\")\n",
    "\n",
    "spark.streams.awaitAnyTermination()\n",
    "    \n",
    "~~~"
   ]
  },
  {
   "cell_type": "code",
   "execution_count": 52,
   "id": "6ae6dbfb-2fb0-4592-a6ad-097e00968b1f",
   "metadata": {
    "tags": []
   },
   "outputs": [],
   "source": [
    "## Supply the ECommerce Schema for Permissive Passthrough\n",
    "# from example 11-4\n",
    "\n",
    "\"\"\"\n",
    "public static final RowType ECOMMERCE_ROW_TYPE = new RowType(\n",
    "          Arrays.asList(\n",
    "                  new RowType.RowField(\"event_time\", new VarCharType(VarCharType.MAX_LENGTH)),\n",
    "                  new RowType.RowField(\"event_type\", new VarCharType(VarCharType.MAX_LENGTH)),\n",
    "                  new RowType.RowField(\"product_id\", new IntType()),\n",
    "                  new RowType.RowField(\"category_id\", new BigIntType()),\n",
    "                  new RowType.RowField(\"category_code\", new VarCharType(VarCharType.MAX_LENGTH)),\n",
    "                  new RowType.RowField(\"brand\", new VarCharType(VarCharType.MAX_LENGTH)),\n",
    "                  new RowType.RowField(\"price\", new FloatType()),\n",
    "                  new RowType.RowField(\"user_id\", new IntType()),\n",
    "                  new RowType.RowField(\"user_session\", new VarCharType(VarCharType.MAX_LENGTH))\n",
    "          ));\n",
    "\"\"\"\n",
    "\n",
    "known_schema: StructType = (\n",
    "    StructType()\n",
    "    .add(StructField(\"event_time\", StringType()))\n",
    "    .add(StructField(\"event_type\", StringType()))\n",
    "    .add(StructField(\"product_id\", IntegerType()))\n",
    "    .add(StructField(\"category_id\", LongType()))\n",
    "    .add(StructField(\"category_code\", StringType()))\n",
    "    .add(StructField(\"brand\", StringType()))\n",
    "    .add(StructField(\"price\", FloatType()))\n",
    "    .add(StructField(\"user_id\", IntegerType()))\n",
    "    .add(StructField(\"user_session\", StringType()))\n",
    "    .add(StructField(\"_corrupt\", StringType(), True, {\n",
    "    'comment': 'invalid rows go into _corrupt rather than simply being dropped'\n",
    "    }))\n",
    ")\n",
    "\n",
    "def transform_from_json(input_df: DataFrame) -> DataFrame:\n",
    "    return (\n",
    "        input_df.withColumn(\n",
    "            \"ecomm\", from_json(\n",
    "                col(\"value\").cast(StringType()),\n",
    "                known_schema,\n",
    "                options={\n",
    "                    'mode': 'PERMISSIVE',\n",
    "                    'columnNameOfCorruptRecord': '_corrupt'\n",
    "                }\n",
    "            )))\n",
    "\n",
    "transformed_df = bronze_df.transform(transform_from_json)"
   ]
  },
  {
   "cell_type": "code",
   "execution_count": 60,
   "id": "f85c2ae9-9c3b-4355-8b02-15f485ff5ccd",
   "metadata": {
    "tags": []
   },
   "outputs": [
    {
     "name": "stdout",
     "output_type": "stream",
     "text": [
      "+----+--------------------+--------------------+--------------------+----------+--------------------+\n",
      "| key|               value|               topic|           timestamp|event_date|               ecomm|\n",
      "+----+--------------------+--------------------+--------------------+----------+--------------------+\n",
      "|null|[7B 22 65 76 65 6...|ecomm.v1.clickstream|2023-10-08 22:07:...|2023-10-08|{2023-08-30T00:00...|\n",
      "|null|[7B 22 65 76 65 6...|ecomm.v1.clickstream|2023-10-08 22:09:...|2023-10-08|{2023-09-21T00:00...|\n",
      "+----+--------------------+--------------------+--------------------+----------+--------------------+\n",
      "\n"
     ]
    }
   ],
   "source": [
    "transformed_df.show()"
   ]
  },
  {
   "cell_type": "code",
   "execution_count": 73,
   "id": "59c75978-3989-4dd8-b3d7-7467199c3a88",
   "metadata": {
    "tags": []
   },
   "outputs": [],
   "source": [
    "def transform_for_silver(input_df: DataFrame) -> DataFrame:\n",
    "    return (\n",
    "        input_df\n",
    "        .select(\n",
    "            col(\"event_date\").alias(\"ingest_date\"),\n",
    "            col(\"timestamp\").alias(\"ingest_timestamp\"),\n",
    "            col(\"ecomm.*\")\n",
    "        )\n",
    "        .where(col(\"_corrupt\").isNull())\n",
    "        .drop(\"_corrupt\")\n",
    "    )\n",
    "\n",
    "for_silver_df = (\n",
    "    bronze_df\n",
    "    .transform(transform_from_json)\n",
    "    .transform(transform_for_silver))"
   ]
  },
  {
   "cell_type": "code",
   "execution_count": 75,
   "id": "4fdc63c0-5584-403d-82ca-365725ebc531",
   "metadata": {
    "tags": []
   },
   "outputs": [
    {
     "name": "stdout",
     "output_type": "stream",
     "text": [
      "+-----------+--------------------+--------------------+----------+----------+-------------------+--------------------+-------+------+-------+--------------------+\n",
      "|ingest_date|    ingest_timestamp|          event_time|event_type|product_id|        category_id|       category_code|  brand| price|user_id|        user_session|\n",
      "+-----------+--------------------+--------------------+----------+----------+-------------------+--------------------+-------+------+-------+--------------------+\n",
      "| 2023-10-08|2023-10-08 22:07:...|2023-08-30T00:00:00Z|      view|      4782|2053013552326770905|appliances.enviro...|heater3|2789.0|    195|19ae88e1-4a02-4b5...|\n",
      "| 2023-10-08|2023-10-08 22:09:...|2023-09-21T00:00:00Z|      view|      4783|2051113552326770905|appliances.televi...|   sony|2789.0|    196|19ae88e1-4a02-4b5...|\n",
      "+-----------+--------------------+--------------------+----------+----------+-------------------+--------------------+-------+------+-------+--------------------+\n",
      "\n"
     ]
    }
   ],
   "source": [
    "for_silver_df.show()"
   ]
  },
  {
   "cell_type": "code",
   "execution_count": 84,
   "id": "d85115b9-75d4-47bd-939e-d30fd33dc663",
   "metadata": {
    "tags": []
   },
   "outputs": [],
   "source": [
    "# example 11-7\n",
    "topN = (\n",
    "    for_silver_df\n",
    "    .groupBy(\"ingest_date\", \"category_id\")\n",
    "    .agg(\n",
    "        count(col(\"product_id\")).alias(\"impressions\"),\n",
    "        min(col(\"price\")).alias(\"min_price\"),\n",
    "        max(col(\"price\")).alias(\"max_price\"),\n",
    "        avg(col(\"price\")).alias(\"avg_price\")\n",
    "    )\n",
    "    .orderBy(desc(\"impressions\"))\n",
    "    .limit(5)\n",
    ")"
   ]
  },
  {
   "cell_type": "code",
   "execution_count": 83,
   "id": "c09d4314-096f-466e-97a1-0b7adb54091e",
   "metadata": {
    "tags": []
   },
   "outputs": [
    {
     "name": "stdout",
     "output_type": "stream",
     "text": [
      "+-----------+-------------------+-----------+---------+---------+---------+\n",
      "|ingest_date|        category_id|impressions|min_price|max_price|avg_price|\n",
      "+-----------+-------------------+-----------+---------+---------+---------+\n",
      "| 2023-10-08|2053013552326770905|          1|   2789.0|   2789.0|   2789.0|\n",
      "| 2023-10-08|2051113552326770905|          1|   2789.0|   2789.0|   2789.0|\n",
      "+-----------+-------------------+-----------+---------+---------+---------+\n",
      "\n"
     ]
    }
   ],
   "source": [
    "topN.show()"
   ]
  },
  {
   "cell_type": "code",
   "execution_count": null,
   "id": "316846ce-0527-46c1-b617-a4fca7d840db",
   "metadata": {},
   "outputs": [],
   "source": []
  }
 ],
 "metadata": {
  "kernelspec": {
   "display_name": "Python 3 (ipykernel)",
   "language": "python",
   "name": "python3"
  },
  "language_info": {
   "codemirror_mode": {
    "name": "ipython",
    "version": 3
   },
   "file_extension": ".py",
   "mimetype": "text/x-python",
   "name": "python",
   "nbconvert_exporter": "python",
   "pygments_lexer": "ipython3",
   "version": "3.9.2"
  }
 },
 "nbformat": 4,
 "nbformat_minor": 5
}
