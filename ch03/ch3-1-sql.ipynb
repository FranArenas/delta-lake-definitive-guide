{
 "cells": [
  {
   "cell_type": "markdown",
   "id": "e4d95640-f976-4ba2-9a52-6e8666274217",
   "metadata": {},
   "source": [
    "# Chapter 3\n",
    "## Essential Operations\n",
    "\n",
    "This is a basic how-to guide following the contents of Chapter 3 of *Delta Lake: The Definitive Guide*\n",
    "\n",
    "Consider it a quick field guide to running all your CRUD operations."
   ]
  },
  {
   "cell_type": "code",
   "execution_count": 1,
   "id": "51ff5ddb-4d53-4c2e-9e69-1f4cf1b9b7b0",
   "metadata": {},
   "outputs": [],
   "source": [
    "# Reduce logging\n",
    "sc.setLogLevel(\"ERROR\")"
   ]
  },
  {
   "cell_type": "code",
   "execution_count": 2,
   "id": "3d75b359-ebb1-49a1-8cdd-43c6b0b63066",
   "metadata": {},
   "outputs": [
    {
     "data": {
      "text/plain": [
       "DataFrame[]"
      ]
     },
     "execution_count": 2,
     "metadata": {},
     "output_type": "execute_result"
    }
   ],
   "source": [
    "# Create a database for the examples\n",
    "spark.sql(\"create database if not exists exampleDB\")"
   ]
  },
  {
   "cell_type": "code",
   "execution_count": 3,
   "id": "32618bf9-16b1-4e27-bc52-d7d5f0df4c02",
   "metadata": {},
   "outputs": [
    {
     "name": "stderr",
     "output_type": "stream",
     "text": [
      "                                                                                \r"
     ]
    }
   ],
   "source": [
    "# Create some data\n",
    "data = [\n",
    "(1, \"United Kingdom\", \"London\"),\n",
    "(2, \"Canada\", \"Toronto\")\n",
    "]\n",
    "\n",
    "# Create a schema\n",
    "schema = [\"id\", \"country\", \"capital\"]\n",
    "\n",
    "# Create a dataframe\n",
    "sdf = spark.createDataFrame(data, schema=schema)\n",
    "\n",
    "# Save as a csv to use later\n",
    "(sdf\n",
    " .toPandas()\n",
    " .to_csv(\"countries.csv\", header=None)\n",
    ")\n",
    "\n",
    "# Save as a paruet to use later\n",
    "sdf.write.format(\"parquet\").mode(\"overwrite\").save(\"countries.parquet\")"
   ]
  },
  {
   "cell_type": "code",
   "execution_count": 4,
   "id": "aa005f1d-04b2-47e0-bb59-a5f3206befaa",
   "metadata": {},
   "outputs": [
    {
     "data": {
      "text/plain": [
       "DataFrame[]"
      ]
     },
     "execution_count": 4,
     "metadata": {},
     "output_type": "execute_result"
    }
   ],
   "source": [
    "# Make sure the table doesn't already exist\n",
    "spark.sql(\"\"\"\n",
    "DROP TABLE if exists exampleDB.countries\n",
    "\"\"\")"
   ]
  },
  {
   "cell_type": "code",
   "execution_count": 5,
   "id": "8deac110-e29a-4462-ade5-e4b45ac2711e",
   "metadata": {},
   "outputs": [
    {
     "name": "stderr",
     "output_type": "stream",
     "text": [
      "                                                                                \r"
     ]
    },
    {
     "data": {
      "text/plain": [
       "DataFrame[]"
      ]
     },
     "execution_count": 5,
     "metadata": {},
     "output_type": "execute_result"
    }
   ],
   "source": [
    "# Create an empty table\n",
    "spark.sql(\"\"\"\n",
    "CREATE TABLE exampleDB.countries (\n",
    "  id LONG,\n",
    "  country STRING,\n",
    "  capital STRING\n",
    ") USING DELTA;\n",
    "\"\"\")"
   ]
  },
  {
   "cell_type": "code",
   "execution_count": 6,
   "id": "28d5d7fd-63d6-417a-aa13-149d21673091",
   "metadata": {},
   "outputs": [
    {
     "name": "stdout",
     "output_type": "stream",
     "text": [
      "/opt/spark/work-dir\n"
     ]
    }
   ],
   "source": [
    "!pwd"
   ]
  },
  {
   "cell_type": "code",
   "execution_count": 7,
   "id": "90ee08aa-8708-4a6c-a5d8-d10b23ff3488",
   "metadata": {},
   "outputs": [
    {
     "data": {
      "text/plain": [
       "DataFrame[]"
      ]
     },
     "execution_count": 7,
     "metadata": {},
     "output_type": "execute_result"
    }
   ],
   "source": [
    "# Create a table in the working directory so it is inspectable\n",
    "spark.sql(\"\"\"\n",
    "CREATE TABLE exampleDB.countries_loc (\n",
    "  id LONG,\n",
    "  country STRING,\n",
    "  capital STRING\n",
    ") USING DELTA\n",
    "LOCATION '/opt/spark/work-dir/countries.delta';\n",
    "\"\"\")"
   ]
  },
  {
   "cell_type": "code",
   "execution_count": 8,
   "id": "a73868e0-8995-4105-bbac-d0462beb9102",
   "metadata": {},
   "outputs": [
    {
     "data": {
      "text/plain": [
       "DataFrame[]"
      ]
     },
     "execution_count": 8,
     "metadata": {},
     "output_type": "execute_result"
    }
   ],
   "source": [
    "# Basic INSERT INTO example\n",
    "spark.sql(\"\"\"\n",
    "INSERT INTO exampleDB.countries VALUES\n",
    "(1, 'United Kingdom', 'London'),\n",
    "(2, 'Canada', 'Toronto')\n",
    "\"\"\")"
   ]
  },
  {
   "cell_type": "code",
   "execution_count": 9,
   "id": "b7a1e737-8fb4-415b-95e5-2c74c8113115",
   "metadata": {},
   "outputs": [
    {
     "data": {
      "text/plain": [
       "DataFrame[]"
      ]
     },
     "execution_count": 9,
     "metadata": {},
     "output_type": "execute_result"
    }
   ],
   "source": [
    "# INSERT INTO from a parquet file \n",
    "spark.sql(\"\"\"\n",
    "INSERT INTO exampleDB.countries\n",
    "SELECT * FROM parquet.`countries.parquet`;\n",
    "\"\"\")"
   ]
  },
  {
   "cell_type": "code",
   "execution_count": 11,
   "id": "6b519e3e-03c1-4223-9752-4b13c44c35a5",
   "metadata": {},
   "outputs": [
    {
     "data": {
      "text/plain": [
       "DataFrame[]"
      ]
     },
     "execution_count": 11,
     "metadata": {},
     "output_type": "execute_result"
    }
   ],
   "source": [
    "# Simple CTAS example\n",
    "spark.sql(\"\"\"\n",
    "CREATE TABLE exampleDB.countries2 as\n",
    "select * from exampleDB.countries\n",
    "\"\"\")"
   ]
  },
  {
   "cell_type": "code",
   "execution_count": 12,
   "id": "d28fc262-9f60-422e-8b5d-9330582c2dea",
   "metadata": {},
   "outputs": [
    {
     "data": {
      "text/plain": [
       "DataFrame[]"
      ]
     },
     "execution_count": 12,
     "metadata": {},
     "output_type": "execute_result"
    }
   ],
   "source": [
    "# CONVERT TO DELTA example\n",
    "spark.sql(\"\"\"\n",
    "CONVERT TO DELTA parquet.`countries.parquet`\n",
    "\"\"\")"
   ]
  },
  {
   "cell_type": "markdown",
   "id": "3f5401f8-463c-4912-b0dd-12e1697f941a",
   "metadata": {},
   "source": [
    "#### Check out the _delta_log and view the contents of the JSON file(s)"
   ]
  },
  {
   "cell_type": "code",
   "execution_count": 12,
   "id": "cefc97fa-6bf6-4ab1-bd32-6b207b35cbf2",
   "metadata": {},
   "outputs": [
    {
     "name": "stdout",
     "output_type": "stream",
     "text": [
      "\u001b[01;34mcountries.delta/_delta_log\u001b[0m\n",
      "└── \u001b[00m00000000000000000000.json\u001b[0m\n",
      "\n",
      "0 directories, 1 file\n"
     ]
    }
   ],
   "source": [
    "!tree countries.delta/_delta_log"
   ]
  },
  {
   "cell_type": "code",
   "execution_count": 13,
   "id": "746f8fc7-1a99-4eff-93b7-aa1d3977dccf",
   "metadata": {},
   "outputs": [
    {
     "name": "stdout",
     "output_type": "stream",
     "text": [
      "+---------------------------------------------------------------------------------------------------------------------------------------------------+----------------------------------------------------------------------------------------------------------------------------------------------------------------------------------------------------------------------------------------------------------------------------------------------+--------+\n",
      "|commitInfo                                                                                                                                         |metaData                                                                                                                                                                                                                                                                                      |protocol|\n",
      "+---------------------------------------------------------------------------------------------------------------------------------------------------+----------------------------------------------------------------------------------------------------------------------------------------------------------------------------------------------------------------------------------------------------------------------------------------------+--------+\n",
      "|{Apache-Spark/3.5.1 Delta-Lake/3.1.0, true, Serializable, CREATE TABLE, {NULL, false, [], {}}, 1716985841507, 03806614-db89-4373-acc0-3d8c5c26a36f}|NULL                                                                                                                                                                                                                                                                                          |NULL    |\n",
      "|NULL                                                                                                                                               |{1716985841500, {parquet}, fdbc62d0-17f6-4637-87fa-6523994ddfb1, [], {\"type\":\"struct\",\"fields\":[{\"name\":\"id\",\"type\":\"long\",\"nullable\":true,\"metadata\":{}},{\"name\":\"country\",\"type\":\"string\",\"nullable\":true,\"metadata\":{}},{\"name\":\"capital\",\"type\":\"string\",\"nullable\":true,\"metadata\":{}}]}}|NULL    |\n",
      "|NULL                                                                                                                                               |NULL                                                                                                                                                                                                                                                                                          |{1, 2}  |\n",
      "+---------------------------------------------------------------------------------------------------------------------------------------------------+----------------------------------------------------------------------------------------------------------------------------------------------------------------------------------------------------------------------------------------------------------------------------------------------+--------+\n",
      "\n"
     ]
    }
   ],
   "source": [
    "import pandas as pd\n",
    "\n",
    "spark.read.json(\"countries.delta/_delta_log/*\").show(truncate=False)"
   ]
  },
  {
   "cell_type": "code",
   "execution_count": 14,
   "id": "38dbaa80-5d8a-44ad-867d-e2ebaed3d428",
   "metadata": {},
   "outputs": [
    {
     "name": "stdout",
     "output_type": "stream",
     "text": [
      "+---+--------------+-------+\n",
      "| id|       country|capital|\n",
      "+---+--------------+-------+\n",
      "|  1|United Kingdom| London|\n",
      "|  1|United Kingdom| London|\n",
      "|  2|        Canada|Toronto|\n",
      "|  2|        Canada|Toronto|\n",
      "+---+--------------+-------+\n",
      "\n"
     ]
    }
   ],
   "source": [
    "# Check the current contents of the table\n",
    "spark.table(\"exampleDB.countries\").show()"
   ]
  },
  {
   "cell_type": "code",
   "execution_count": 15,
   "id": "8f392640-136e-419b-8c70-171a453813f2",
   "metadata": {},
   "outputs": [
    {
     "data": {
      "text/plain": [
       "DataFrame[id: bigint, capital: string]"
      ]
     },
     "execution_count": 15,
     "metadata": {},
     "output_type": "execute_result"
    }
   ],
   "source": [
    "# Reading from the table with SQL\n",
    "spark.sql(\"\"\"\n",
    "SELECT\n",
    "    id,\n",
    "    capital\n",
    "FROM\n",
    "    exampleDB.countries\n",
    "\"\"\")"
   ]
  },
  {
   "cell_type": "code",
   "execution_count": 16,
   "id": "04702ad5-946e-4fcc-816f-a919b5eb0e13",
   "metadata": {},
   "outputs": [
    {
     "data": {
      "text/plain": [
       "DataFrame[id: bigint, capital: string]"
      ]
     },
     "execution_count": 16,
     "metadata": {},
     "output_type": "execute_result"
    }
   ],
   "source": [
    "# Same select statement but with Pyspark\n",
    "(spark.table(\"exampleDB.countries\")\n",
    " .select(\"id\", \"capital\")\n",
    ")"
   ]
  },
  {
   "cell_type": "code",
   "execution_count": 17,
   "id": "dcb8a3d9-35f7-4af6-85a3-e1de7d751f59",
   "metadata": {},
   "outputs": [
    {
     "name": "stdout",
     "output_type": "stream",
     "text": [
      "+---+\n",
      "| id|\n",
      "+---+\n",
      "|  1|\n",
      "|  2|\n",
      "+---+\n",
      "\n"
     ]
    }
   ],
   "source": [
    "# Time travel based on version\n",
    "spark.sql(\"\"\"\n",
    "SELECT DISTINCT id FROM exampleDB.countries VERSION AS OF 1\n",
    "\"\"\").show()"
   ]
  },
  {
   "cell_type": "code",
   "execution_count": 20,
   "id": "914d2dc9-3670-404d-81b4-8f83cf3fd8e7",
   "metadata": {},
   "outputs": [
    {
     "name": "stdout",
     "output_type": "stream",
     "text": [
      "+--------+\n",
      "|count(1)|\n",
      "+--------+\n",
      "|       4|\n",
      "+--------+\n",
      "\n"
     ]
    }
   ],
   "source": [
    "# Time travel based on timestamp, you have to be \"in bounds\" so you would need to adjust to a valid timestamp for this\n",
    "# It cannot predate or postdate the available versions of the table so we commented out te time tr\n",
    "spark.sql(\"\"\"\n",
    "SELECT count(1) FROM exampleDB.countries -- |TIMESTAMP AS OF \"2024-04-20\"\n",
    "\"\"\").show()"
   ]
  },
  {
   "cell_type": "code",
   "execution_count": 24,
   "id": "691b4f11-6284-454a-8f20-944ca81516a6",
   "metadata": {},
   "outputs": [
    {
     "data": {
      "text/plain": [
       "DataFrame[]"
      ]
     },
     "execution_count": 24,
     "metadata": {},
     "output_type": "execute_result"
    }
   ],
   "source": [
    "# Overwrite with values from another source\n",
    "spark.sql(\"\"\"\n",
    "INSERT OVERWRITE TABLE exampleDB.countries_loc\n",
    "select distinct * from exampleDB.countries\n",
    "\"\"\")"
   ]
  },
  {
   "cell_type": "code",
   "execution_count": 25,
   "id": "9c429f0d-cd34-48a9-8639-7c71a9eae835",
   "metadata": {},
   "outputs": [
    {
     "data": {
      "text/plain": [
       "DataFrame[num_affected_rows: bigint]"
      ]
     },
     "execution_count": 25,
     "metadata": {},
     "output_type": "execute_result"
    }
   ],
   "source": [
    "# Update specific values\n",
    "spark.sql(\"\"\"\n",
    "UPDATE exampleDB.countries\n",
    "SET country = 'U.K.'\n",
    "WHERE id = 1;\n",
    "\"\"\")"
   ]
  },
  {
   "cell_type": "code",
   "execution_count": 26,
   "id": "779b6112-d080-458c-8bec-22e16160952e",
   "metadata": {},
   "outputs": [
    {
     "data": {
      "text/plain": [
       "DataFrame[num_affected_rows: bigint]"
      ]
     },
     "execution_count": 26,
     "metadata": {},
     "output_type": "execute_result"
    }
   ],
   "source": [
    "# Update values that don't exist (safe but does nothing, see later upsert example for alternative)\n",
    "spark.sql(\"\"\"\n",
    "UPDATE exampleDB.countries\n",
    "SET country = 'U.S.', capital = 'Washington, D.C.'\n",
    "WHERE id = 3;\n",
    "\"\"\")"
   ]
  },
  {
   "cell_type": "code",
   "execution_count": 27,
   "id": "ca83cae7-e2cb-4fad-91a6-cac9ea9a3374",
   "metadata": {},
   "outputs": [
    {
     "data": {
      "text/plain": [
       "DataFrame[num_affected_rows: bigint]"
      ]
     },
     "execution_count": 27,
     "metadata": {},
     "output_type": "execute_result"
    }
   ],
   "source": [
    "# DELETE without specifying filters, deletes everything\n",
    "spark.sql(\"\"\"\n",
    "DELETE FROM exampleDB.countries\n",
    "\"\"\")"
   ]
  },
  {
   "cell_type": "code",
   "execution_count": 29,
   "id": "de0a0464-1556-4aea-a708-574124da4b60",
   "metadata": {},
   "outputs": [
    {
     "name": "stdout",
     "output_type": "stream",
     "text": [
      "+---+-------+-------+\n",
      "| id|country|capital|\n",
      "+---+-------+-------+\n",
      "+---+-------+-------+\n",
      "\n"
     ]
    }
   ],
   "source": [
    "# Show everything was deleted\n",
    "spark.sql(\"\"\"\n",
    "select * from exampleDB.countries\n",
    "\"\"\").show()"
   ]
  },
  {
   "cell_type": "code",
   "execution_count": 30,
   "id": "ddc3dfff-5990-49e3-a944-775b5e89f022",
   "metadata": {},
   "outputs": [
    {
     "data": {
      "text/plain": [
       "DataFrame[]"
      ]
     },
     "execution_count": 30,
     "metadata": {},
     "output_type": "execute_result"
    }
   ],
   "source": [
    "# INSERT OVERWRITE, if there were any values already they would get deleted too\n",
    "spark.sql(\"\"\"\n",
    "INSERT OVERWRITE exampleDB.countries\n",
    "VALUES (3, 'U.S.', 'Washington, D.C.');\n",
    "\"\"\")"
   ]
  },
  {
   "cell_type": "code",
   "execution_count": 31,
   "id": "cda3490e-d220-4f37-8ec7-3ea2f0405adb",
   "metadata": {},
   "outputs": [
    {
     "data": {
      "text/plain": [
       "DataFrame[num_affected_rows: bigint]"
      ]
     },
     "execution_count": 31,
     "metadata": {},
     "output_type": "execute_result"
    }
   ],
   "source": [
    "# Delete with a filtering condition\n",
    "spark.sql(\"\"\"\n",
    "DELETE FROM exampleDB.countries where id < '2024-04-20'\n",
    "\"\"\")"
   ]
  },
  {
   "cell_type": "code",
   "execution_count": 32,
   "id": "73226509-9db0-4466-8014-15290436eb82",
   "metadata": {},
   "outputs": [
    {
     "name": "stdout",
     "output_type": "stream",
     "text": [
      "+---+-------+----------------+\n",
      "| id|country|         capital|\n",
      "+---+-------+----------------+\n",
      "|  3|   U.S.|Washington, D.C.|\n",
      "+---+-------+----------------+\n",
      "\n"
     ]
    }
   ],
   "source": [
    "# Show results\n",
    "spark.sql(\"\"\"\n",
    "select * from exampleDB.countries\n",
    "\"\"\").show()"
   ]
  },
  {
   "cell_type": "markdown",
   "id": "fc61a5f3-29c8-4adb-90c3-cf66498f1caf",
   "metadata": {},
   "source": [
    "#### Upsert\n",
    "Insert records into the table if they don't exist or update them to correspond if they do."
   ]
  },
  {
   "cell_type": "code",
   "execution_count": 33,
   "id": "2549730c-f083-4f46-a1ba-9d28f735210d",
   "metadata": {},
   "outputs": [
    {
     "data": {
      "text/plain": [
       "DataFrame[num_affected_rows: bigint, num_updated_rows: bigint, num_deleted_rows: bigint, num_inserted_rows: bigint]"
      ]
     },
     "execution_count": 33,
     "metadata": {},
     "output_type": "execute_result"
    }
   ],
   "source": [
    "spark.sql(\"\"\"\n",
    "MERGE INTO exampleDB.countries A\n",
    "USING (select * from parquet.`countries.parquet`) B\n",
    "ON A.id = B.id\n",
    "WHEN MATCHED THEN\n",
    "  UPDATE SET\n",
    "\tid = A.id,\n",
    "\tcountry = B.country,\n",
    "\tcapital = B.capital\n",
    "WHEN NOT MATCHED\n",
    "  THEN INSERT (\n",
    "\tid,\n",
    "\tcountry,\n",
    "\tcapital\n",
    "  )\n",
    "  VALUES (\n",
    "\tB.id,\n",
    "\tB.country,\n",
    "\tB.capital\n",
    "  )\n",
    "\n",
    "\"\"\")"
   ]
  },
  {
   "cell_type": "code",
   "execution_count": 34,
   "id": "1fe78eb9-10f9-4109-a16e-a9edde186afa",
   "metadata": {},
   "outputs": [
    {
     "name": "stdout",
     "output_type": "stream",
     "text": [
      "+---+--------------+----------------+\n",
      "| id|       country|         capital|\n",
      "+---+--------------+----------------+\n",
      "|  1|United Kingdom|          London|\n",
      "|  3|          U.S.|Washington, D.C.|\n",
      "|  2|        Canada|         Toronto|\n",
      "+---+--------------+----------------+\n",
      "\n"
     ]
    }
   ],
   "source": [
    "# Show results\n",
    "spark.sql(\"\"\"\n",
    "select * from exampleDB.countries\n",
    "\"\"\").show()"
   ]
  },
  {
   "cell_type": "code",
   "execution_count": null,
   "id": "4acdaf54-0f6f-4b58-a16a-cee732c49c03",
   "metadata": {},
   "outputs": [],
   "source": []
  }
 ],
 "metadata": {
  "kernelspec": {
   "display_name": "Python 3 (ipykernel)",
   "language": "python",
   "name": "python3"
  },
  "language_info": {
   "codemirror_mode": {
    "name": "ipython",
    "version": 3
   },
   "file_extension": ".py",
   "mimetype": "text/x-python",
   "name": "python",
   "nbconvert_exporter": "python",
   "pygments_lexer": "ipython3",
   "version": "3.10.12"
  }
 },
 "nbformat": 4,
 "nbformat_minor": 5
}
