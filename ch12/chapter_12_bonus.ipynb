{
 "cells": [
  {
   "cell_type": "code",
   "execution_count": 7,
   "id": "6a63b905-d952-4c95-9ff6-e9815cc79676",
   "metadata": {
    "tags": []
   },
   "outputs": [
    {
     "name": "stdout",
     "output_type": "stream",
     "text": [
      "\u001b[33m(Deprecated) Installing extensions with the jupyter labextension install command is now deprecated and will be removed in a future major version of JupyterLab.\n",
      "\n",
      "Users should manage prebuilt extensions with package managers like pip and conda, and extension authors are encouraged to distribute their extensions as prebuilt packages \u001b[0m\n",
      "An error occurred.\n",
      "ValueError: Please install Node.js and npm before continuing installation. You may be able to install Node.js from your package manager, from conda, or directly from the Node.js website (https://nodejs.org).\n",
      "See the log file for details:  /tmp/jupyterlab-debug-fx9cd79i.log\n"
     ]
    }
   ],
   "source": [
    "!jupyter labextension install jupyterlab-plotly"
   ]
  },
  {
   "cell_type": "code",
   "execution_count": 2,
   "id": "6ea3f61c-5f1e-4e58-9400-a903f9340cd1",
   "metadata": {
    "tags": []
   },
   "outputs": [],
   "source": [
    "!pip install -q --disable-pip-version-check \"ipywidgets>=7.5\" jupyter-dash"
   ]
  },
  {
   "cell_type": "code",
   "execution_count": 3,
   "id": "ca5879f3-4ce5-4f2f-8a7b-4ca8b41fe475",
   "metadata": {},
   "outputs": [
    {
     "name": "stdout",
     "output_type": "stream",
     "text": [
      "The autoreload extension is already loaded. To reload it, use:\n",
      "  %reload_ext autoreload\n"
     ]
    }
   ],
   "source": [
    "%load_ext autoreload\n",
    "%autoreload 2"
   ]
  },
  {
   "cell_type": "code",
   "execution_count": 4,
   "id": "3c3f2fc1-176f-47c3-aff0-c22898c9f60e",
   "metadata": {
    "tags": []
   },
   "outputs": [],
   "source": [
    "import pandas as pd\n",
    "\n",
    "class Rep:\n",
    "    \"\"\"\n",
    "        Z-Order Interleaving Demonstration\n",
    "    \"\"\"\n",
    "\n",
    "    def __init__(self, index_range=10):\n",
    "        \"\"\"\n",
    "            Basic setup and calls\n",
    "        \"\"\"\n",
    "        self._create_indices(index_range)\n",
    "        self._mapping_setup()\n",
    "        self._bin_interleave()\n",
    "        self._make_coords()\n",
    "        self._map_1d()\n",
    "        self._create_bins()\n",
    "        self._narrow_down()\n",
    "        self.plot()\n",
    "    \n",
    "    def _create_indices(self, index_range):\n",
    "        \"\"\"\n",
    "            Creates indices to use and the larger cross product to transform\n",
    "        \"\"\"\n",
    "        indA = list(range(index_range))\n",
    "        indA.remove(0)\n",
    "        self._a_index = indA\n",
    "        indB = list(range(index_range))\n",
    "        indB.remove(0)\n",
    "        self._b_index = indB\n",
    "    \n",
    "    def _mapping_setup(self):\n",
    "        \"\"\"\n",
    "            Maps values to binary representations\n",
    "        \"\"\"\n",
    "        tdfA = pd.DataFrame(self._a_index, columns=[\"indA\"])\n",
    "        tdfB = pd.DataFrame(self._b_index, columns=[\"indB\"])\n",
    "        tdf = tdfA.join(tdfB, on=None, how='cross')\n",
    "        tdf[\"binA\"] = tdf.indA.apply(lambda x: str(bin(x))[2:])\n",
    "        tdf[\"binB\"] = tdf.indB.apply(lambda x: str(bin(x))[2:])\n",
    "        tdf.binA = tdf.binA.str.pad(width=8, side='left', fillchar='0')\n",
    "        tdf.binB = tdf.binB.str.pad(width=8, side='left', fillchar='0')\n",
    "        self._rep = tdf\n",
    "\n",
    "    def _bin_interleave(self, prefix=False):\n",
    "        \"\"\"\n",
    "            Performs the interleaving step with the binary representations\n",
    "        \"\"\"\n",
    "        def interleave(a, b):\n",
    "            int_result = []\n",
    "            A = list(a)\n",
    "            B = list(b)\n",
    "            while (A or B):\n",
    "                int_result.append(A.pop(0))\n",
    "                int_result.append(B.pop(0))\n",
    "            term = \"\".join(int_result)\n",
    "            return \"0b\" + term if prefix else term \n",
    "        self._rep[\"binAB\"] = self._rep.apply(lambda x: interleave(x.binA, x.binB), axis=1)\n",
    "\n",
    "    def _make_coords(self):\n",
    "        \"\"\"\n",
    "            Make the string version of the coordinates\n",
    "        \"\"\"\n",
    "        self._rep[\"coordAB\"] = self._rep.indA.astype(str).str.cat(self._rep.indB.astype(str), sep=\", \")\n",
    "\n",
    "    def _map_1d(self):\n",
    "        \"\"\"\n",
    "            Get an integer version of the new 1d representation\n",
    "        \"\"\"\n",
    "        self._rep[\"ind1D\"] = self._rep.binAB.apply(lambda x: int(x, 2))\n",
    "\n",
    "    def _narrow_down(self):\n",
    "        \"\"\"\n",
    "            Creates narrower df with coord pair and interleaved binary\n",
    "        \"\"\"\n",
    "        ndf = self._rep[[\"coordAB\", \"binAB\", \"ind1D\"]].copy()\n",
    "        ndf = ndf.reset_index(drop=True)\n",
    "        ndf.columns = [\"coordAB\", \"binAB\", \"ind1D\"]\n",
    "        ndf = ndf.sort_values(by=[\"binAB\"], ignore_index=True, kind='heapsort')\n",
    "        self._narrow_rep = ndf\n",
    "\n",
    "    def _create_bins(self):\n",
    "        \"\"\"\n",
    "            Creates binning(partitions) and then makes them identifiers\n",
    "        \"\"\"\n",
    "        self._rep = self._rep.sort_values(by=[\"binAB\"], ignore_index=True, kind='heapsort')\n",
    "        self._rep[\"bin\"] = pd.factorize(pd.cut(x=self._rep.ind1D, bins=10, retbins=False))[0]\n",
    "\n",
    "    def plot(self):\n",
    "        import plotly.express as px\n",
    "        adf = self._rep\n",
    "        adf[\"bin\"] = adf[\"bin\"].astype(str)\n",
    "        fig = px.scatter(\n",
    "            adf,\n",
    "            x=\"indA\",\n",
    "            y=\"indB\",\n",
    "            color=\"bin\",\n",
    "            hover_data=['coordAB', 'binAB'],\n",
    "            color_discrete_map=dict(zip(list(range(10, 0, -1)), px.colors.qualitative.T10)),\n",
    "            facet_col=\"bin\",\n",
    "            facet_col_wrap=3,\n",
    "            width=900,\n",
    "            height=900,\n",
    "            )\n",
    "        fig.update_xaxes(range=[0, 10], title_text=None, showticklabels=False, showgrid=False)\n",
    "        fig.update_yaxes(range=[10, 0], title_text=None, showticklabels=False, showgrid=False)\n",
    "        fig.update_traces(marker_size=15)\n",
    "        fig.update_xaxes(title_text=\"y\", row=1, col=1)\n",
    "        fig.update_xaxes(title_text=\"y\", row=1, col=2)\n",
    "        fig.update_xaxes(title_text=\"y\", row=1, col=3)\n",
    "        fig.update_yaxes(title_text=\"x\", row=1, col=1)\n",
    "        fig.update_yaxes(title_text=\"x\", row=2, col=1)\n",
    "        fig.update_yaxes(title_text=\"x\", row=3, col=1)\n",
    "        fig.show()\n",
    "        \n",
    "    def get(self):\n",
    "        return self._rep\n",
    "\n",
    "    def get_narrow(self):\n",
    "        return self._narrow_rep\n",
    "    \n",
    "    def get_markdown(self):\n",
    "        return self._rep.get_narrow().to_markdown(index=False)"
   ]
  },
  {
   "cell_type": "code",
   "execution_count": 6,
   "id": "b3a620d8-e05d-47cc-bf89-3974482ab921",
   "metadata": {
    "tags": []
   },
   "outputs": [
    {
     "data": {
      "application/vnd.plotly.v1+json": {
       "config": {
        "plotlyServerURL": "https://plot.ly"
       },
       "data": [
        {
         "customdata": [
          [
           "1, 1",
           "0000000000000011"
          ],
          [
           "1, 2",
           "0000000000000110"
          ],
          [
           "1, 3",
           "0000000000000111"
          ],
          [
           "2, 1",
           "0000000000001001"
          ],
          [
           "3, 1",
           "0000000000001011"
          ],
          [
           "2, 2",
           "0000000000001100"
          ],
          [
           "2, 3",
           "0000000000001101"
          ],
          [
           "3, 2",
           "0000000000001110"
          ],
          [
           "3, 3",
           "0000000000001111"
          ],
          [
           "1, 4",
           "0000000000010010"
          ],
          [
           "1, 5",
           "0000000000010011"
          ],
          [
           "1, 6",
           "0000000000010110"
          ]
         ],
         "hovertemplate": "bin=0<br>indA=%{x}<br>indB=%{y}<br>coordAB=%{customdata[0]}<br>binAB=%{customdata[1]}<extra></extra>",
         "legendgroup": "0",
         "marker": {
          "color": "#636efa",
          "size": 15,
          "symbol": "circle"
         },
         "mode": "markers",
         "name": "0",
         "orientation": "v",
         "showlegend": true,
         "type": "scatter",
         "x": [
          1,
          1,
          1,
          2,
          3,
          2,
          2,
          3,
          3,
          1,
          1,
          1
         ],
         "xaxis": "x7",
         "y": [
          1,
          2,
          3,
          1,
          1,
          2,
          3,
          2,
          3,
          4,
          5,
          6
         ],
         "yaxis": "y7"
        },
        {
         "customdata": [
          [
           "1, 7",
           "0000000000010111"
          ],
          [
           "2, 4",
           "0000000000011000"
          ],
          [
           "2, 5",
           "0000000000011001"
          ],
          [
           "3, 4",
           "0000000000011010"
          ],
          [
           "3, 5",
           "0000000000011011"
          ],
          [
           "2, 6",
           "0000000000011100"
          ],
          [
           "2, 7",
           "0000000000011101"
          ],
          [
           "3, 6",
           "0000000000011110"
          ],
          [
           "3, 7",
           "0000000000011111"
          ],
          [
           "4, 1",
           "0000000000100001"
          ],
          [
           "5, 1",
           "0000000000100011"
          ],
          [
           "4, 2",
           "0000000000100100"
          ],
          [
           "4, 3",
           "0000000000100101"
          ],
          [
           "5, 2",
           "0000000000100110"
          ],
          [
           "5, 3",
           "0000000000100111"
          ],
          [
           "6, 1",
           "0000000000101001"
          ]
         ],
         "hovertemplate": "bin=1<br>indA=%{x}<br>indB=%{y}<br>coordAB=%{customdata[0]}<br>binAB=%{customdata[1]}<extra></extra>",
         "legendgroup": "1",
         "marker": {
          "color": "#EF553B",
          "size": 15,
          "symbol": "circle"
         },
         "mode": "markers",
         "name": "1",
         "orientation": "v",
         "showlegend": true,
         "type": "scatter",
         "x": [
          1,
          2,
          2,
          3,
          3,
          2,
          2,
          3,
          3,
          4,
          5,
          4,
          4,
          5,
          5,
          6
         ],
         "xaxis": "x8",
         "y": [
          7,
          4,
          5,
          4,
          5,
          6,
          7,
          6,
          7,
          1,
          1,
          2,
          3,
          2,
          3,
          1
         ],
         "yaxis": "y8"
        },
        {
         "customdata": [
          [
           "7, 1",
           "0000000000101011"
          ],
          [
           "6, 2",
           "0000000000101100"
          ],
          [
           "6, 3",
           "0000000000101101"
          ],
          [
           "7, 2",
           "0000000000101110"
          ],
          [
           "7, 3",
           "0000000000101111"
          ],
          [
           "4, 4",
           "0000000000110000"
          ],
          [
           "4, 5",
           "0000000000110001"
          ],
          [
           "5, 4",
           "0000000000110010"
          ],
          [
           "5, 5",
           "0000000000110011"
          ],
          [
           "4, 6",
           "0000000000110100"
          ],
          [
           "4, 7",
           "0000000000110101"
          ],
          [
           "5, 6",
           "0000000000110110"
          ],
          [
           "5, 7",
           "0000000000110111"
          ],
          [
           "6, 4",
           "0000000000111000"
          ],
          [
           "6, 5",
           "0000000000111001"
          ],
          [
           "7, 4",
           "0000000000111010"
          ],
          [
           "7, 5",
           "0000000000111011"
          ],
          [
           "6, 6",
           "0000000000111100"
          ]
         ],
         "hovertemplate": "bin=2<br>indA=%{x}<br>indB=%{y}<br>coordAB=%{customdata[0]}<br>binAB=%{customdata[1]}<extra></extra>",
         "legendgroup": "2",
         "marker": {
          "color": "#00cc96",
          "size": 15,
          "symbol": "circle"
         },
         "mode": "markers",
         "name": "2",
         "orientation": "v",
         "showlegend": true,
         "type": "scatter",
         "x": [
          7,
          6,
          6,
          7,
          7,
          4,
          4,
          5,
          5,
          4,
          4,
          5,
          5,
          6,
          6,
          7,
          7,
          6
         ],
         "xaxis": "x9",
         "y": [
          1,
          2,
          3,
          2,
          3,
          4,
          5,
          4,
          5,
          6,
          7,
          6,
          7,
          4,
          5,
          4,
          5,
          6
         ],
         "yaxis": "y9"
        },
        {
         "customdata": [
          [
           "6, 7",
           "0000000000111101"
          ],
          [
           "7, 6",
           "0000000000111110"
          ],
          [
           "7, 7",
           "0000000000111111"
          ],
          [
           "1, 8",
           "0000000001000010"
          ],
          [
           "1, 9",
           "0000000001000011"
          ],
          [
           "2, 8",
           "0000000001001000"
          ],
          [
           "2, 9",
           "0000000001001001"
          ],
          [
           "3, 8",
           "0000000001001010"
          ],
          [
           "3, 9",
           "0000000001001011"
          ]
         ],
         "hovertemplate": "bin=3<br>indA=%{x}<br>indB=%{y}<br>coordAB=%{customdata[0]}<br>binAB=%{customdata[1]}<extra></extra>",
         "legendgroup": "3",
         "marker": {
          "color": "#ab63fa",
          "size": 15,
          "symbol": "circle"
         },
         "mode": "markers",
         "name": "3",
         "orientation": "v",
         "showlegend": true,
         "type": "scatter",
         "x": [
          6,
          7,
          7,
          1,
          1,
          2,
          2,
          3,
          3
         ],
         "xaxis": "x4",
         "y": [
          7,
          6,
          7,
          8,
          9,
          8,
          9,
          8,
          9
         ],
         "yaxis": "y4"
        },
        {
         "customdata": [
          [
           "4, 8",
           "0000000001100000"
          ],
          [
           "4, 9",
           "0000000001100001"
          ],
          [
           "5, 8",
           "0000000001100010"
          ],
          [
           "5, 9",
           "0000000001100011"
          ]
         ],
         "hovertemplate": "bin=4<br>indA=%{x}<br>indB=%{y}<br>coordAB=%{customdata[0]}<br>binAB=%{customdata[1]}<extra></extra>",
         "legendgroup": "4",
         "marker": {
          "color": "#FFA15A",
          "size": 15,
          "symbol": "circle"
         },
         "mode": "markers",
         "name": "4",
         "orientation": "v",
         "showlegend": true,
         "type": "scatter",
         "x": [
          4,
          4,
          5,
          5
         ],
         "xaxis": "x5",
         "y": [
          8,
          9,
          8,
          9
         ],
         "yaxis": "y5"
        },
        {
         "customdata": [
          [
           "6, 8",
           "0000000001101000"
          ],
          [
           "6, 9",
           "0000000001101001"
          ],
          [
           "7, 8",
           "0000000001101010"
          ],
          [
           "7, 9",
           "0000000001101011"
          ]
         ],
         "hovertemplate": "bin=5<br>indA=%{x}<br>indB=%{y}<br>coordAB=%{customdata[0]}<br>binAB=%{customdata[1]}<extra></extra>",
         "legendgroup": "5",
         "marker": {
          "color": "#19d3f3",
          "size": 15,
          "symbol": "circle"
         },
         "mode": "markers",
         "name": "5",
         "orientation": "v",
         "showlegend": true,
         "type": "scatter",
         "x": [
          6,
          6,
          7,
          7
         ],
         "xaxis": "x6",
         "y": [
          8,
          9,
          8,
          9
         ],
         "yaxis": "y6"
        },
        {
         "customdata": [
          [
           "8, 1",
           "0000000010000001"
          ],
          [
           "9, 1",
           "0000000010000011"
          ],
          [
           "8, 2",
           "0000000010000100"
          ],
          [
           "8, 3",
           "0000000010000101"
          ],
          [
           "9, 2",
           "0000000010000110"
          ],
          [
           "9, 3",
           "0000000010000111"
          ]
         ],
         "hovertemplate": "bin=6<br>indA=%{x}<br>indB=%{y}<br>coordAB=%{customdata[0]}<br>binAB=%{customdata[1]}<extra></extra>",
         "legendgroup": "6",
         "marker": {
          "color": "#FF6692",
          "size": 15,
          "symbol": "circle"
         },
         "mode": "markers",
         "name": "6",
         "orientation": "v",
         "showlegend": true,
         "type": "scatter",
         "x": [
          8,
          9,
          8,
          8,
          9,
          9
         ],
         "xaxis": "x",
         "y": [
          1,
          1,
          2,
          3,
          2,
          3
         ],
         "yaxis": "y"
        },
        {
         "customdata": [
          [
           "8, 4",
           "0000000010010000"
          ],
          [
           "8, 5",
           "0000000010010001"
          ],
          [
           "9, 4",
           "0000000010010010"
          ],
          [
           "9, 5",
           "0000000010010011"
          ],
          [
           "8, 6",
           "0000000010010100"
          ],
          [
           "8, 7",
           "0000000010010101"
          ],
          [
           "9, 6",
           "0000000010010110"
          ],
          [
           "9, 7",
           "0000000010010111"
          ]
         ],
         "hovertemplate": "bin=7<br>indA=%{x}<br>indB=%{y}<br>coordAB=%{customdata[0]}<br>binAB=%{customdata[1]}<extra></extra>",
         "legendgroup": "7",
         "marker": {
          "color": "#B6E880",
          "size": 15,
          "symbol": "circle"
         },
         "mode": "markers",
         "name": "7",
         "orientation": "v",
         "showlegend": true,
         "type": "scatter",
         "x": [
          8,
          8,
          9,
          9,
          8,
          8,
          9,
          9
         ],
         "xaxis": "x2",
         "y": [
          4,
          5,
          4,
          5,
          6,
          7,
          6,
          7
         ],
         "yaxis": "y2"
        },
        {
         "customdata": [
          [
           "8, 8",
           "0000000011000000"
          ],
          [
           "8, 9",
           "0000000011000001"
          ],
          [
           "9, 8",
           "0000000011000010"
          ],
          [
           "9, 9",
           "0000000011000011"
          ]
         ],
         "hovertemplate": "bin=8<br>indA=%{x}<br>indB=%{y}<br>coordAB=%{customdata[0]}<br>binAB=%{customdata[1]}<extra></extra>",
         "legendgroup": "8",
         "marker": {
          "color": "#FF97FF",
          "size": 15,
          "symbol": "circle"
         },
         "mode": "markers",
         "name": "8",
         "orientation": "v",
         "showlegend": true,
         "type": "scatter",
         "x": [
          8,
          8,
          9,
          9
         ],
         "xaxis": "x3",
         "y": [
          8,
          9,
          8,
          9
         ],
         "yaxis": "y3"
        }
       ],
       "layout": {
        "annotations": [
         {
          "font": {},
          "showarrow": false,
          "text": "bin=6",
          "x": 0.15999999999999998,
          "xanchor": "center",
          "xref": "paper",
          "y": 0.2866666666666666,
          "yanchor": "bottom",
          "yref": "paper"
         },
         {
          "font": {},
          "showarrow": false,
          "text": "bin=7",
          "x": 0.49999999999999994,
          "xanchor": "center",
          "xref": "paper",
          "y": 0.2866666666666666,
          "yanchor": "bottom",
          "yref": "paper"
         },
         {
          "font": {},
          "showarrow": false,
          "text": "bin=8",
          "x": 0.8399999999999999,
          "xanchor": "center",
          "xref": "paper",
          "y": 0.2866666666666666,
          "yanchor": "bottom",
          "yref": "paper"
         },
         {
          "font": {},
          "showarrow": false,
          "text": "bin=3",
          "x": 0.15999999999999998,
          "xanchor": "center",
          "xref": "paper",
          "y": 0.6433333333333333,
          "yanchor": "bottom",
          "yref": "paper"
         },
         {
          "font": {},
          "showarrow": false,
          "text": "bin=4",
          "x": 0.49999999999999994,
          "xanchor": "center",
          "xref": "paper",
          "y": 0.6433333333333333,
          "yanchor": "bottom",
          "yref": "paper"
         },
         {
          "font": {},
          "showarrow": false,
          "text": "bin=5",
          "x": 0.8399999999999999,
          "xanchor": "center",
          "xref": "paper",
          "y": 0.6433333333333333,
          "yanchor": "bottom",
          "yref": "paper"
         },
         {
          "font": {},
          "showarrow": false,
          "text": "bin=0",
          "x": 0.15999999999999998,
          "xanchor": "center",
          "xref": "paper",
          "y": 0.9999999999999999,
          "yanchor": "bottom",
          "yref": "paper"
         },
         {
          "font": {},
          "showarrow": false,
          "text": "bin=1",
          "x": 0.49999999999999994,
          "xanchor": "center",
          "xref": "paper",
          "y": 0.9999999999999999,
          "yanchor": "bottom",
          "yref": "paper"
         },
         {
          "font": {},
          "showarrow": false,
          "text": "bin=2",
          "x": 0.8399999999999999,
          "xanchor": "center",
          "xref": "paper",
          "y": 0.9999999999999999,
          "yanchor": "bottom",
          "yref": "paper"
         }
        ],
        "height": 900,
        "legend": {
         "title": {
          "text": "bin"
         },
         "tracegroupgap": 0
        },
        "margin": {
         "t": 60
        },
        "template": {
         "data": {
          "bar": [
           {
            "error_x": {
             "color": "#2a3f5f"
            },
            "error_y": {
             "color": "#2a3f5f"
            },
            "marker": {
             "line": {
              "color": "#E5ECF6",
              "width": 0.5
             },
             "pattern": {
              "fillmode": "overlay",
              "size": 10,
              "solidity": 0.2
             }
            },
            "type": "bar"
           }
          ],
          "barpolar": [
           {
            "marker": {
             "line": {
              "color": "#E5ECF6",
              "width": 0.5
             },
             "pattern": {
              "fillmode": "overlay",
              "size": 10,
              "solidity": 0.2
             }
            },
            "type": "barpolar"
           }
          ],
          "carpet": [
           {
            "aaxis": {
             "endlinecolor": "#2a3f5f",
             "gridcolor": "white",
             "linecolor": "white",
             "minorgridcolor": "white",
             "startlinecolor": "#2a3f5f"
            },
            "baxis": {
             "endlinecolor": "#2a3f5f",
             "gridcolor": "white",
             "linecolor": "white",
             "minorgridcolor": "white",
             "startlinecolor": "#2a3f5f"
            },
            "type": "carpet"
           }
          ],
          "choropleth": [
           {
            "colorbar": {
             "outlinewidth": 0,
             "ticks": ""
            },
            "type": "choropleth"
           }
          ],
          "contour": [
           {
            "colorbar": {
             "outlinewidth": 0,
             "ticks": ""
            },
            "colorscale": [
             [
              0,
              "#0d0887"
             ],
             [
              0.1111111111111111,
              "#46039f"
             ],
             [
              0.2222222222222222,
              "#7201a8"
             ],
             [
              0.3333333333333333,
              "#9c179e"
             ],
             [
              0.4444444444444444,
              "#bd3786"
             ],
             [
              0.5555555555555556,
              "#d8576b"
             ],
             [
              0.6666666666666666,
              "#ed7953"
             ],
             [
              0.7777777777777778,
              "#fb9f3a"
             ],
             [
              0.8888888888888888,
              "#fdca26"
             ],
             [
              1,
              "#f0f921"
             ]
            ],
            "type": "contour"
           }
          ],
          "contourcarpet": [
           {
            "colorbar": {
             "outlinewidth": 0,
             "ticks": ""
            },
            "type": "contourcarpet"
           }
          ],
          "heatmap": [
           {
            "colorbar": {
             "outlinewidth": 0,
             "ticks": ""
            },
            "colorscale": [
             [
              0,
              "#0d0887"
             ],
             [
              0.1111111111111111,
              "#46039f"
             ],
             [
              0.2222222222222222,
              "#7201a8"
             ],
             [
              0.3333333333333333,
              "#9c179e"
             ],
             [
              0.4444444444444444,
              "#bd3786"
             ],
             [
              0.5555555555555556,
              "#d8576b"
             ],
             [
              0.6666666666666666,
              "#ed7953"
             ],
             [
              0.7777777777777778,
              "#fb9f3a"
             ],
             [
              0.8888888888888888,
              "#fdca26"
             ],
             [
              1,
              "#f0f921"
             ]
            ],
            "type": "heatmap"
           }
          ],
          "heatmapgl": [
           {
            "colorbar": {
             "outlinewidth": 0,
             "ticks": ""
            },
            "colorscale": [
             [
              0,
              "#0d0887"
             ],
             [
              0.1111111111111111,
              "#46039f"
             ],
             [
              0.2222222222222222,
              "#7201a8"
             ],
             [
              0.3333333333333333,
              "#9c179e"
             ],
             [
              0.4444444444444444,
              "#bd3786"
             ],
             [
              0.5555555555555556,
              "#d8576b"
             ],
             [
              0.6666666666666666,
              "#ed7953"
             ],
             [
              0.7777777777777778,
              "#fb9f3a"
             ],
             [
              0.8888888888888888,
              "#fdca26"
             ],
             [
              1,
              "#f0f921"
             ]
            ],
            "type": "heatmapgl"
           }
          ],
          "histogram": [
           {
            "marker": {
             "pattern": {
              "fillmode": "overlay",
              "size": 10,
              "solidity": 0.2
             }
            },
            "type": "histogram"
           }
          ],
          "histogram2d": [
           {
            "colorbar": {
             "outlinewidth": 0,
             "ticks": ""
            },
            "colorscale": [
             [
              0,
              "#0d0887"
             ],
             [
              0.1111111111111111,
              "#46039f"
             ],
             [
              0.2222222222222222,
              "#7201a8"
             ],
             [
              0.3333333333333333,
              "#9c179e"
             ],
             [
              0.4444444444444444,
              "#bd3786"
             ],
             [
              0.5555555555555556,
              "#d8576b"
             ],
             [
              0.6666666666666666,
              "#ed7953"
             ],
             [
              0.7777777777777778,
              "#fb9f3a"
             ],
             [
              0.8888888888888888,
              "#fdca26"
             ],
             [
              1,
              "#f0f921"
             ]
            ],
            "type": "histogram2d"
           }
          ],
          "histogram2dcontour": [
           {
            "colorbar": {
             "outlinewidth": 0,
             "ticks": ""
            },
            "colorscale": [
             [
              0,
              "#0d0887"
             ],
             [
              0.1111111111111111,
              "#46039f"
             ],
             [
              0.2222222222222222,
              "#7201a8"
             ],
             [
              0.3333333333333333,
              "#9c179e"
             ],
             [
              0.4444444444444444,
              "#bd3786"
             ],
             [
              0.5555555555555556,
              "#d8576b"
             ],
             [
              0.6666666666666666,
              "#ed7953"
             ],
             [
              0.7777777777777778,
              "#fb9f3a"
             ],
             [
              0.8888888888888888,
              "#fdca26"
             ],
             [
              1,
              "#f0f921"
             ]
            ],
            "type": "histogram2dcontour"
           }
          ],
          "mesh3d": [
           {
            "colorbar": {
             "outlinewidth": 0,
             "ticks": ""
            },
            "type": "mesh3d"
           }
          ],
          "parcoords": [
           {
            "line": {
             "colorbar": {
              "outlinewidth": 0,
              "ticks": ""
             }
            },
            "type": "parcoords"
           }
          ],
          "pie": [
           {
            "automargin": true,
            "type": "pie"
           }
          ],
          "scatter": [
           {
            "fillpattern": {
             "fillmode": "overlay",
             "size": 10,
             "solidity": 0.2
            },
            "type": "scatter"
           }
          ],
          "scatter3d": [
           {
            "line": {
             "colorbar": {
              "outlinewidth": 0,
              "ticks": ""
             }
            },
            "marker": {
             "colorbar": {
              "outlinewidth": 0,
              "ticks": ""
             }
            },
            "type": "scatter3d"
           }
          ],
          "scattercarpet": [
           {
            "marker": {
             "colorbar": {
              "outlinewidth": 0,
              "ticks": ""
             }
            },
            "type": "scattercarpet"
           }
          ],
          "scattergeo": [
           {
            "marker": {
             "colorbar": {
              "outlinewidth": 0,
              "ticks": ""
             }
            },
            "type": "scattergeo"
           }
          ],
          "scattergl": [
           {
            "marker": {
             "colorbar": {
              "outlinewidth": 0,
              "ticks": ""
             }
            },
            "type": "scattergl"
           }
          ],
          "scattermapbox": [
           {
            "marker": {
             "colorbar": {
              "outlinewidth": 0,
              "ticks": ""
             }
            },
            "type": "scattermapbox"
           }
          ],
          "scatterpolar": [
           {
            "marker": {
             "colorbar": {
              "outlinewidth": 0,
              "ticks": ""
             }
            },
            "type": "scatterpolar"
           }
          ],
          "scatterpolargl": [
           {
            "marker": {
             "colorbar": {
              "outlinewidth": 0,
              "ticks": ""
             }
            },
            "type": "scatterpolargl"
           }
          ],
          "scatterternary": [
           {
            "marker": {
             "colorbar": {
              "outlinewidth": 0,
              "ticks": ""
             }
            },
            "type": "scatterternary"
           }
          ],
          "surface": [
           {
            "colorbar": {
             "outlinewidth": 0,
             "ticks": ""
            },
            "colorscale": [
             [
              0,
              "#0d0887"
             ],
             [
              0.1111111111111111,
              "#46039f"
             ],
             [
              0.2222222222222222,
              "#7201a8"
             ],
             [
              0.3333333333333333,
              "#9c179e"
             ],
             [
              0.4444444444444444,
              "#bd3786"
             ],
             [
              0.5555555555555556,
              "#d8576b"
             ],
             [
              0.6666666666666666,
              "#ed7953"
             ],
             [
              0.7777777777777778,
              "#fb9f3a"
             ],
             [
              0.8888888888888888,
              "#fdca26"
             ],
             [
              1,
              "#f0f921"
             ]
            ],
            "type": "surface"
           }
          ],
          "table": [
           {
            "cells": {
             "fill": {
              "color": "#EBF0F8"
             },
             "line": {
              "color": "white"
             }
            },
            "header": {
             "fill": {
              "color": "#C8D4E3"
             },
             "line": {
              "color": "white"
             }
            },
            "type": "table"
           }
          ]
         },
         "layout": {
          "annotationdefaults": {
           "arrowcolor": "#2a3f5f",
           "arrowhead": 0,
           "arrowwidth": 1
          },
          "autotypenumbers": "strict",
          "coloraxis": {
           "colorbar": {
            "outlinewidth": 0,
            "ticks": ""
           }
          },
          "colorscale": {
           "diverging": [
            [
             0,
             "#8e0152"
            ],
            [
             0.1,
             "#c51b7d"
            ],
            [
             0.2,
             "#de77ae"
            ],
            [
             0.3,
             "#f1b6da"
            ],
            [
             0.4,
             "#fde0ef"
            ],
            [
             0.5,
             "#f7f7f7"
            ],
            [
             0.6,
             "#e6f5d0"
            ],
            [
             0.7,
             "#b8e186"
            ],
            [
             0.8,
             "#7fbc41"
            ],
            [
             0.9,
             "#4d9221"
            ],
            [
             1,
             "#276419"
            ]
           ],
           "sequential": [
            [
             0,
             "#0d0887"
            ],
            [
             0.1111111111111111,
             "#46039f"
            ],
            [
             0.2222222222222222,
             "#7201a8"
            ],
            [
             0.3333333333333333,
             "#9c179e"
            ],
            [
             0.4444444444444444,
             "#bd3786"
            ],
            [
             0.5555555555555556,
             "#d8576b"
            ],
            [
             0.6666666666666666,
             "#ed7953"
            ],
            [
             0.7777777777777778,
             "#fb9f3a"
            ],
            [
             0.8888888888888888,
             "#fdca26"
            ],
            [
             1,
             "#f0f921"
            ]
           ],
           "sequentialminus": [
            [
             0,
             "#0d0887"
            ],
            [
             0.1111111111111111,
             "#46039f"
            ],
            [
             0.2222222222222222,
             "#7201a8"
            ],
            [
             0.3333333333333333,
             "#9c179e"
            ],
            [
             0.4444444444444444,
             "#bd3786"
            ],
            [
             0.5555555555555556,
             "#d8576b"
            ],
            [
             0.6666666666666666,
             "#ed7953"
            ],
            [
             0.7777777777777778,
             "#fb9f3a"
            ],
            [
             0.8888888888888888,
             "#fdca26"
            ],
            [
             1,
             "#f0f921"
            ]
           ]
          },
          "colorway": [
           "#636efa",
           "#EF553B",
           "#00cc96",
           "#ab63fa",
           "#FFA15A",
           "#19d3f3",
           "#FF6692",
           "#B6E880",
           "#FF97FF",
           "#FECB52"
          ],
          "font": {
           "color": "#2a3f5f"
          },
          "geo": {
           "bgcolor": "white",
           "lakecolor": "white",
           "landcolor": "#E5ECF6",
           "showlakes": true,
           "showland": true,
           "subunitcolor": "white"
          },
          "hoverlabel": {
           "align": "left"
          },
          "hovermode": "closest",
          "mapbox": {
           "style": "light"
          },
          "paper_bgcolor": "white",
          "plot_bgcolor": "#E5ECF6",
          "polar": {
           "angularaxis": {
            "gridcolor": "white",
            "linecolor": "white",
            "ticks": ""
           },
           "bgcolor": "#E5ECF6",
           "radialaxis": {
            "gridcolor": "white",
            "linecolor": "white",
            "ticks": ""
           }
          },
          "scene": {
           "xaxis": {
            "backgroundcolor": "#E5ECF6",
            "gridcolor": "white",
            "gridwidth": 2,
            "linecolor": "white",
            "showbackground": true,
            "ticks": "",
            "zerolinecolor": "white"
           },
           "yaxis": {
            "backgroundcolor": "#E5ECF6",
            "gridcolor": "white",
            "gridwidth": 2,
            "linecolor": "white",
            "showbackground": true,
            "ticks": "",
            "zerolinecolor": "white"
           },
           "zaxis": {
            "backgroundcolor": "#E5ECF6",
            "gridcolor": "white",
            "gridwidth": 2,
            "linecolor": "white",
            "showbackground": true,
            "ticks": "",
            "zerolinecolor": "white"
           }
          },
          "shapedefaults": {
           "line": {
            "color": "#2a3f5f"
           }
          },
          "ternary": {
           "aaxis": {
            "gridcolor": "white",
            "linecolor": "white",
            "ticks": ""
           },
           "baxis": {
            "gridcolor": "white",
            "linecolor": "white",
            "ticks": ""
           },
           "bgcolor": "#E5ECF6",
           "caxis": {
            "gridcolor": "white",
            "linecolor": "white",
            "ticks": ""
           }
          },
          "title": {
           "x": 0.05
          },
          "xaxis": {
           "automargin": true,
           "gridcolor": "white",
           "linecolor": "white",
           "ticks": "",
           "title": {
            "standoff": 15
           },
           "zerolinecolor": "white",
           "zerolinewidth": 2
          },
          "yaxis": {
           "automargin": true,
           "gridcolor": "white",
           "linecolor": "white",
           "ticks": "",
           "title": {
            "standoff": 15
           },
           "zerolinecolor": "white",
           "zerolinewidth": 2
          }
         }
        },
        "width": 900,
        "xaxis": {
         "anchor": "y",
         "domain": [
          0,
          0.31999999999999995
         ],
         "range": [
          0,
          10
         ],
         "showgrid": false,
         "showticklabels": false,
         "title": {
          "text": "y"
         }
        },
        "xaxis2": {
         "anchor": "y2",
         "domain": [
          0.33999999999999997,
          0.6599999999999999
         ],
         "matches": "x",
         "range": [
          0,
          10
         ],
         "showgrid": false,
         "showticklabels": false,
         "title": {
          "text": "y"
         }
        },
        "xaxis3": {
         "anchor": "y3",
         "domain": [
          0.6799999999999999,
          0.9999999999999999
         ],
         "matches": "x",
         "range": [
          0,
          10
         ],
         "showgrid": false,
         "showticklabels": false,
         "title": {
          "text": "y"
         }
        },
        "xaxis4": {
         "anchor": "y4",
         "domain": [
          0,
          0.31999999999999995
         ],
         "matches": "x",
         "range": [
          0,
          10
         ],
         "showgrid": false,
         "showticklabels": false
        },
        "xaxis5": {
         "anchor": "y5",
         "domain": [
          0.33999999999999997,
          0.6599999999999999
         ],
         "matches": "x",
         "range": [
          0,
          10
         ],
         "showgrid": false,
         "showticklabels": false
        },
        "xaxis6": {
         "anchor": "y6",
         "domain": [
          0.6799999999999999,
          0.9999999999999999
         ],
         "matches": "x",
         "range": [
          0,
          10
         ],
         "showgrid": false,
         "showticklabels": false
        },
        "xaxis7": {
         "anchor": "y7",
         "domain": [
          0,
          0.31999999999999995
         ],
         "matches": "x",
         "range": [
          0,
          10
         ],
         "showgrid": false,
         "showticklabels": false
        },
        "xaxis8": {
         "anchor": "y8",
         "domain": [
          0.33999999999999997,
          0.6599999999999999
         ],
         "matches": "x",
         "range": [
          0,
          10
         ],
         "showgrid": false,
         "showticklabels": false
        },
        "xaxis9": {
         "anchor": "y9",
         "domain": [
          0.6799999999999999,
          0.9999999999999999
         ],
         "matches": "x",
         "range": [
          0,
          10
         ],
         "showgrid": false,
         "showticklabels": false
        },
        "yaxis": {
         "anchor": "x",
         "domain": [
          0,
          0.2866666666666666
         ],
         "range": [
          10,
          0
         ],
         "showgrid": false,
         "showticklabels": false,
         "title": {
          "text": "x"
         }
        },
        "yaxis2": {
         "anchor": "x2",
         "domain": [
          0,
          0.2866666666666666
         ],
         "matches": "y",
         "range": [
          10,
          0
         ],
         "showgrid": false,
         "showticklabels": false
        },
        "yaxis3": {
         "anchor": "x3",
         "domain": [
          0,
          0.2866666666666666
         ],
         "matches": "y",
         "range": [
          10,
          0
         ],
         "showgrid": false,
         "showticklabels": false
        },
        "yaxis4": {
         "anchor": "x4",
         "domain": [
          0.35666666666666663,
          0.6433333333333333
         ],
         "matches": "y",
         "range": [
          10,
          0
         ],
         "showgrid": false,
         "showticklabels": false,
         "title": {
          "text": "x"
         }
        },
        "yaxis5": {
         "anchor": "x5",
         "domain": [
          0.35666666666666663,
          0.6433333333333333
         ],
         "matches": "y",
         "range": [
          10,
          0
         ],
         "showgrid": false,
         "showticklabels": false
        },
        "yaxis6": {
         "anchor": "x6",
         "domain": [
          0.35666666666666663,
          0.6433333333333333
         ],
         "matches": "y",
         "range": [
          10,
          0
         ],
         "showgrid": false,
         "showticklabels": false
        },
        "yaxis7": {
         "anchor": "x7",
         "domain": [
          0.7133333333333333,
          0.9999999999999999
         ],
         "matches": "y",
         "range": [
          10,
          0
         ],
         "showgrid": false,
         "showticklabels": false,
         "title": {
          "text": "x"
         }
        },
        "yaxis8": {
         "anchor": "x8",
         "domain": [
          0.7133333333333333,
          0.9999999999999999
         ],
         "matches": "y",
         "range": [
          10,
          0
         ],
         "showgrid": false,
         "showticklabels": false
        },
        "yaxis9": {
         "anchor": "x9",
         "domain": [
          0.7133333333333333,
          0.9999999999999999
         ],
         "matches": "y",
         "range": [
          10,
          0
         ],
         "showgrid": false,
         "showticklabels": false
        }
       }
      },
      "text/html": [
       "<div>                            <div id=\"eb704ea6-4d74-43df-937f-5d5f320820c6\" class=\"plotly-graph-div\" style=\"height:900px; width:900px;\"></div>            <script type=\"text/javascript\">                require([\"plotly\"], function(Plotly) {                    window.PLOTLYENV=window.PLOTLYENV || {};                                    if (document.getElementById(\"eb704ea6-4d74-43df-937f-5d5f320820c6\")) {                    Plotly.newPlot(                        \"eb704ea6-4d74-43df-937f-5d5f320820c6\",                        [{\"customdata\":[[\"1, 1\",\"0000000000000011\"],[\"1, 2\",\"0000000000000110\"],[\"1, 3\",\"0000000000000111\"],[\"2, 1\",\"0000000000001001\"],[\"3, 1\",\"0000000000001011\"],[\"2, 2\",\"0000000000001100\"],[\"2, 3\",\"0000000000001101\"],[\"3, 2\",\"0000000000001110\"],[\"3, 3\",\"0000000000001111\"],[\"1, 4\",\"0000000000010010\"],[\"1, 5\",\"0000000000010011\"],[\"1, 6\",\"0000000000010110\"]],\"hovertemplate\":\"bin=0\\u003cbr\\u003eindA=%{x}\\u003cbr\\u003eindB=%{y}\\u003cbr\\u003ecoordAB=%{customdata[0]}\\u003cbr\\u003ebinAB=%{customdata[1]}\\u003cextra\\u003e\\u003c\\u002fextra\\u003e\",\"legendgroup\":\"0\",\"marker\":{\"color\":\"#636efa\",\"symbol\":\"circle\",\"size\":15},\"mode\":\"markers\",\"name\":\"0\",\"orientation\":\"v\",\"showlegend\":true,\"x\":[1,1,1,2,3,2,2,3,3,1,1,1],\"xaxis\":\"x7\",\"y\":[1,2,3,1,1,2,3,2,3,4,5,6],\"yaxis\":\"y7\",\"type\":\"scatter\"},{\"customdata\":[[\"1, 7\",\"0000000000010111\"],[\"2, 4\",\"0000000000011000\"],[\"2, 5\",\"0000000000011001\"],[\"3, 4\",\"0000000000011010\"],[\"3, 5\",\"0000000000011011\"],[\"2, 6\",\"0000000000011100\"],[\"2, 7\",\"0000000000011101\"],[\"3, 6\",\"0000000000011110\"],[\"3, 7\",\"0000000000011111\"],[\"4, 1\",\"0000000000100001\"],[\"5, 1\",\"0000000000100011\"],[\"4, 2\",\"0000000000100100\"],[\"4, 3\",\"0000000000100101\"],[\"5, 2\",\"0000000000100110\"],[\"5, 3\",\"0000000000100111\"],[\"6, 1\",\"0000000000101001\"]],\"hovertemplate\":\"bin=1\\u003cbr\\u003eindA=%{x}\\u003cbr\\u003eindB=%{y}\\u003cbr\\u003ecoordAB=%{customdata[0]}\\u003cbr\\u003ebinAB=%{customdata[1]}\\u003cextra\\u003e\\u003c\\u002fextra\\u003e\",\"legendgroup\":\"1\",\"marker\":{\"color\":\"#EF553B\",\"symbol\":\"circle\",\"size\":15},\"mode\":\"markers\",\"name\":\"1\",\"orientation\":\"v\",\"showlegend\":true,\"x\":[1,2,2,3,3,2,2,3,3,4,5,4,4,5,5,6],\"xaxis\":\"x8\",\"y\":[7,4,5,4,5,6,7,6,7,1,1,2,3,2,3,1],\"yaxis\":\"y8\",\"type\":\"scatter\"},{\"customdata\":[[\"7, 1\",\"0000000000101011\"],[\"6, 2\",\"0000000000101100\"],[\"6, 3\",\"0000000000101101\"],[\"7, 2\",\"0000000000101110\"],[\"7, 3\",\"0000000000101111\"],[\"4, 4\",\"0000000000110000\"],[\"4, 5\",\"0000000000110001\"],[\"5, 4\",\"0000000000110010\"],[\"5, 5\",\"0000000000110011\"],[\"4, 6\",\"0000000000110100\"],[\"4, 7\",\"0000000000110101\"],[\"5, 6\",\"0000000000110110\"],[\"5, 7\",\"0000000000110111\"],[\"6, 4\",\"0000000000111000\"],[\"6, 5\",\"0000000000111001\"],[\"7, 4\",\"0000000000111010\"],[\"7, 5\",\"0000000000111011\"],[\"6, 6\",\"0000000000111100\"]],\"hovertemplate\":\"bin=2\\u003cbr\\u003eindA=%{x}\\u003cbr\\u003eindB=%{y}\\u003cbr\\u003ecoordAB=%{customdata[0]}\\u003cbr\\u003ebinAB=%{customdata[1]}\\u003cextra\\u003e\\u003c\\u002fextra\\u003e\",\"legendgroup\":\"2\",\"marker\":{\"color\":\"#00cc96\",\"symbol\":\"circle\",\"size\":15},\"mode\":\"markers\",\"name\":\"2\",\"orientation\":\"v\",\"showlegend\":true,\"x\":[7,6,6,7,7,4,4,5,5,4,4,5,5,6,6,7,7,6],\"xaxis\":\"x9\",\"y\":[1,2,3,2,3,4,5,4,5,6,7,6,7,4,5,4,5,6],\"yaxis\":\"y9\",\"type\":\"scatter\"},{\"customdata\":[[\"6, 7\",\"0000000000111101\"],[\"7, 6\",\"0000000000111110\"],[\"7, 7\",\"0000000000111111\"],[\"1, 8\",\"0000000001000010\"],[\"1, 9\",\"0000000001000011\"],[\"2, 8\",\"0000000001001000\"],[\"2, 9\",\"0000000001001001\"],[\"3, 8\",\"0000000001001010\"],[\"3, 9\",\"0000000001001011\"]],\"hovertemplate\":\"bin=3\\u003cbr\\u003eindA=%{x}\\u003cbr\\u003eindB=%{y}\\u003cbr\\u003ecoordAB=%{customdata[0]}\\u003cbr\\u003ebinAB=%{customdata[1]}\\u003cextra\\u003e\\u003c\\u002fextra\\u003e\",\"legendgroup\":\"3\",\"marker\":{\"color\":\"#ab63fa\",\"symbol\":\"circle\",\"size\":15},\"mode\":\"markers\",\"name\":\"3\",\"orientation\":\"v\",\"showlegend\":true,\"x\":[6,7,7,1,1,2,2,3,3],\"xaxis\":\"x4\",\"y\":[7,6,7,8,9,8,9,8,9],\"yaxis\":\"y4\",\"type\":\"scatter\"},{\"customdata\":[[\"4, 8\",\"0000000001100000\"],[\"4, 9\",\"0000000001100001\"],[\"5, 8\",\"0000000001100010\"],[\"5, 9\",\"0000000001100011\"]],\"hovertemplate\":\"bin=4\\u003cbr\\u003eindA=%{x}\\u003cbr\\u003eindB=%{y}\\u003cbr\\u003ecoordAB=%{customdata[0]}\\u003cbr\\u003ebinAB=%{customdata[1]}\\u003cextra\\u003e\\u003c\\u002fextra\\u003e\",\"legendgroup\":\"4\",\"marker\":{\"color\":\"#FFA15A\",\"symbol\":\"circle\",\"size\":15},\"mode\":\"markers\",\"name\":\"4\",\"orientation\":\"v\",\"showlegend\":true,\"x\":[4,4,5,5],\"xaxis\":\"x5\",\"y\":[8,9,8,9],\"yaxis\":\"y5\",\"type\":\"scatter\"},{\"customdata\":[[\"6, 8\",\"0000000001101000\"],[\"6, 9\",\"0000000001101001\"],[\"7, 8\",\"0000000001101010\"],[\"7, 9\",\"0000000001101011\"]],\"hovertemplate\":\"bin=5\\u003cbr\\u003eindA=%{x}\\u003cbr\\u003eindB=%{y}\\u003cbr\\u003ecoordAB=%{customdata[0]}\\u003cbr\\u003ebinAB=%{customdata[1]}\\u003cextra\\u003e\\u003c\\u002fextra\\u003e\",\"legendgroup\":\"5\",\"marker\":{\"color\":\"#19d3f3\",\"symbol\":\"circle\",\"size\":15},\"mode\":\"markers\",\"name\":\"5\",\"orientation\":\"v\",\"showlegend\":true,\"x\":[6,6,7,7],\"xaxis\":\"x6\",\"y\":[8,9,8,9],\"yaxis\":\"y6\",\"type\":\"scatter\"},{\"customdata\":[[\"8, 1\",\"0000000010000001\"],[\"9, 1\",\"0000000010000011\"],[\"8, 2\",\"0000000010000100\"],[\"8, 3\",\"0000000010000101\"],[\"9, 2\",\"0000000010000110\"],[\"9, 3\",\"0000000010000111\"]],\"hovertemplate\":\"bin=6\\u003cbr\\u003eindA=%{x}\\u003cbr\\u003eindB=%{y}\\u003cbr\\u003ecoordAB=%{customdata[0]}\\u003cbr\\u003ebinAB=%{customdata[1]}\\u003cextra\\u003e\\u003c\\u002fextra\\u003e\",\"legendgroup\":\"6\",\"marker\":{\"color\":\"#FF6692\",\"symbol\":\"circle\",\"size\":15},\"mode\":\"markers\",\"name\":\"6\",\"orientation\":\"v\",\"showlegend\":true,\"x\":[8,9,8,8,9,9],\"xaxis\":\"x\",\"y\":[1,1,2,3,2,3],\"yaxis\":\"y\",\"type\":\"scatter\"},{\"customdata\":[[\"8, 4\",\"0000000010010000\"],[\"8, 5\",\"0000000010010001\"],[\"9, 4\",\"0000000010010010\"],[\"9, 5\",\"0000000010010011\"],[\"8, 6\",\"0000000010010100\"],[\"8, 7\",\"0000000010010101\"],[\"9, 6\",\"0000000010010110\"],[\"9, 7\",\"0000000010010111\"]],\"hovertemplate\":\"bin=7\\u003cbr\\u003eindA=%{x}\\u003cbr\\u003eindB=%{y}\\u003cbr\\u003ecoordAB=%{customdata[0]}\\u003cbr\\u003ebinAB=%{customdata[1]}\\u003cextra\\u003e\\u003c\\u002fextra\\u003e\",\"legendgroup\":\"7\",\"marker\":{\"color\":\"#B6E880\",\"symbol\":\"circle\",\"size\":15},\"mode\":\"markers\",\"name\":\"7\",\"orientation\":\"v\",\"showlegend\":true,\"x\":[8,8,9,9,8,8,9,9],\"xaxis\":\"x2\",\"y\":[4,5,4,5,6,7,6,7],\"yaxis\":\"y2\",\"type\":\"scatter\"},{\"customdata\":[[\"8, 8\",\"0000000011000000\"],[\"8, 9\",\"0000000011000001\"],[\"9, 8\",\"0000000011000010\"],[\"9, 9\",\"0000000011000011\"]],\"hovertemplate\":\"bin=8\\u003cbr\\u003eindA=%{x}\\u003cbr\\u003eindB=%{y}\\u003cbr\\u003ecoordAB=%{customdata[0]}\\u003cbr\\u003ebinAB=%{customdata[1]}\\u003cextra\\u003e\\u003c\\u002fextra\\u003e\",\"legendgroup\":\"8\",\"marker\":{\"color\":\"#FF97FF\",\"symbol\":\"circle\",\"size\":15},\"mode\":\"markers\",\"name\":\"8\",\"orientation\":\"v\",\"showlegend\":true,\"x\":[8,8,9,9],\"xaxis\":\"x3\",\"y\":[8,9,8,9],\"yaxis\":\"y3\",\"type\":\"scatter\"}],                        {\"template\":{\"data\":{\"histogram2dcontour\":[{\"type\":\"histogram2dcontour\",\"colorbar\":{\"outlinewidth\":0,\"ticks\":\"\"},\"colorscale\":[[0.0,\"#0d0887\"],[0.1111111111111111,\"#46039f\"],[0.2222222222222222,\"#7201a8\"],[0.3333333333333333,\"#9c179e\"],[0.4444444444444444,\"#bd3786\"],[0.5555555555555556,\"#d8576b\"],[0.6666666666666666,\"#ed7953\"],[0.7777777777777778,\"#fb9f3a\"],[0.8888888888888888,\"#fdca26\"],[1.0,\"#f0f921\"]]}],\"choropleth\":[{\"type\":\"choropleth\",\"colorbar\":{\"outlinewidth\":0,\"ticks\":\"\"}}],\"histogram2d\":[{\"type\":\"histogram2d\",\"colorbar\":{\"outlinewidth\":0,\"ticks\":\"\"},\"colorscale\":[[0.0,\"#0d0887\"],[0.1111111111111111,\"#46039f\"],[0.2222222222222222,\"#7201a8\"],[0.3333333333333333,\"#9c179e\"],[0.4444444444444444,\"#bd3786\"],[0.5555555555555556,\"#d8576b\"],[0.6666666666666666,\"#ed7953\"],[0.7777777777777778,\"#fb9f3a\"],[0.8888888888888888,\"#fdca26\"],[1.0,\"#f0f921\"]]}],\"heatmap\":[{\"type\":\"heatmap\",\"colorbar\":{\"outlinewidth\":0,\"ticks\":\"\"},\"colorscale\":[[0.0,\"#0d0887\"],[0.1111111111111111,\"#46039f\"],[0.2222222222222222,\"#7201a8\"],[0.3333333333333333,\"#9c179e\"],[0.4444444444444444,\"#bd3786\"],[0.5555555555555556,\"#d8576b\"],[0.6666666666666666,\"#ed7953\"],[0.7777777777777778,\"#fb9f3a\"],[0.8888888888888888,\"#fdca26\"],[1.0,\"#f0f921\"]]}],\"heatmapgl\":[{\"type\":\"heatmapgl\",\"colorbar\":{\"outlinewidth\":0,\"ticks\":\"\"},\"colorscale\":[[0.0,\"#0d0887\"],[0.1111111111111111,\"#46039f\"],[0.2222222222222222,\"#7201a8\"],[0.3333333333333333,\"#9c179e\"],[0.4444444444444444,\"#bd3786\"],[0.5555555555555556,\"#d8576b\"],[0.6666666666666666,\"#ed7953\"],[0.7777777777777778,\"#fb9f3a\"],[0.8888888888888888,\"#fdca26\"],[1.0,\"#f0f921\"]]}],\"contourcarpet\":[{\"type\":\"contourcarpet\",\"colorbar\":{\"outlinewidth\":0,\"ticks\":\"\"}}],\"contour\":[{\"type\":\"contour\",\"colorbar\":{\"outlinewidth\":0,\"ticks\":\"\"},\"colorscale\":[[0.0,\"#0d0887\"],[0.1111111111111111,\"#46039f\"],[0.2222222222222222,\"#7201a8\"],[0.3333333333333333,\"#9c179e\"],[0.4444444444444444,\"#bd3786\"],[0.5555555555555556,\"#d8576b\"],[0.6666666666666666,\"#ed7953\"],[0.7777777777777778,\"#fb9f3a\"],[0.8888888888888888,\"#fdca26\"],[1.0,\"#f0f921\"]]}],\"surface\":[{\"type\":\"surface\",\"colorbar\":{\"outlinewidth\":0,\"ticks\":\"\"},\"colorscale\":[[0.0,\"#0d0887\"],[0.1111111111111111,\"#46039f\"],[0.2222222222222222,\"#7201a8\"],[0.3333333333333333,\"#9c179e\"],[0.4444444444444444,\"#bd3786\"],[0.5555555555555556,\"#d8576b\"],[0.6666666666666666,\"#ed7953\"],[0.7777777777777778,\"#fb9f3a\"],[0.8888888888888888,\"#fdca26\"],[1.0,\"#f0f921\"]]}],\"mesh3d\":[{\"type\":\"mesh3d\",\"colorbar\":{\"outlinewidth\":0,\"ticks\":\"\"}}],\"scatter\":[{\"fillpattern\":{\"fillmode\":\"overlay\",\"size\":10,\"solidity\":0.2},\"type\":\"scatter\"}],\"parcoords\":[{\"type\":\"parcoords\",\"line\":{\"colorbar\":{\"outlinewidth\":0,\"ticks\":\"\"}}}],\"scatterpolargl\":[{\"type\":\"scatterpolargl\",\"marker\":{\"colorbar\":{\"outlinewidth\":0,\"ticks\":\"\"}}}],\"bar\":[{\"error_x\":{\"color\":\"#2a3f5f\"},\"error_y\":{\"color\":\"#2a3f5f\"},\"marker\":{\"line\":{\"color\":\"#E5ECF6\",\"width\":0.5},\"pattern\":{\"fillmode\":\"overlay\",\"size\":10,\"solidity\":0.2}},\"type\":\"bar\"}],\"scattergeo\":[{\"type\":\"scattergeo\",\"marker\":{\"colorbar\":{\"outlinewidth\":0,\"ticks\":\"\"}}}],\"scatterpolar\":[{\"type\":\"scatterpolar\",\"marker\":{\"colorbar\":{\"outlinewidth\":0,\"ticks\":\"\"}}}],\"histogram\":[{\"marker\":{\"pattern\":{\"fillmode\":\"overlay\",\"size\":10,\"solidity\":0.2}},\"type\":\"histogram\"}],\"scattergl\":[{\"type\":\"scattergl\",\"marker\":{\"colorbar\":{\"outlinewidth\":0,\"ticks\":\"\"}}}],\"scatter3d\":[{\"type\":\"scatter3d\",\"line\":{\"colorbar\":{\"outlinewidth\":0,\"ticks\":\"\"}},\"marker\":{\"colorbar\":{\"outlinewidth\":0,\"ticks\":\"\"}}}],\"scattermapbox\":[{\"type\":\"scattermapbox\",\"marker\":{\"colorbar\":{\"outlinewidth\":0,\"ticks\":\"\"}}}],\"scatterternary\":[{\"type\":\"scatterternary\",\"marker\":{\"colorbar\":{\"outlinewidth\":0,\"ticks\":\"\"}}}],\"scattercarpet\":[{\"type\":\"scattercarpet\",\"marker\":{\"colorbar\":{\"outlinewidth\":0,\"ticks\":\"\"}}}],\"carpet\":[{\"aaxis\":{\"endlinecolor\":\"#2a3f5f\",\"gridcolor\":\"white\",\"linecolor\":\"white\",\"minorgridcolor\":\"white\",\"startlinecolor\":\"#2a3f5f\"},\"baxis\":{\"endlinecolor\":\"#2a3f5f\",\"gridcolor\":\"white\",\"linecolor\":\"white\",\"minorgridcolor\":\"white\",\"startlinecolor\":\"#2a3f5f\"},\"type\":\"carpet\"}],\"table\":[{\"cells\":{\"fill\":{\"color\":\"#EBF0F8\"},\"line\":{\"color\":\"white\"}},\"header\":{\"fill\":{\"color\":\"#C8D4E3\"},\"line\":{\"color\":\"white\"}},\"type\":\"table\"}],\"barpolar\":[{\"marker\":{\"line\":{\"color\":\"#E5ECF6\",\"width\":0.5},\"pattern\":{\"fillmode\":\"overlay\",\"size\":10,\"solidity\":0.2}},\"type\":\"barpolar\"}],\"pie\":[{\"automargin\":true,\"type\":\"pie\"}]},\"layout\":{\"autotypenumbers\":\"strict\",\"colorway\":[\"#636efa\",\"#EF553B\",\"#00cc96\",\"#ab63fa\",\"#FFA15A\",\"#19d3f3\",\"#FF6692\",\"#B6E880\",\"#FF97FF\",\"#FECB52\"],\"font\":{\"color\":\"#2a3f5f\"},\"hovermode\":\"closest\",\"hoverlabel\":{\"align\":\"left\"},\"paper_bgcolor\":\"white\",\"plot_bgcolor\":\"#E5ECF6\",\"polar\":{\"bgcolor\":\"#E5ECF6\",\"angularaxis\":{\"gridcolor\":\"white\",\"linecolor\":\"white\",\"ticks\":\"\"},\"radialaxis\":{\"gridcolor\":\"white\",\"linecolor\":\"white\",\"ticks\":\"\"}},\"ternary\":{\"bgcolor\":\"#E5ECF6\",\"aaxis\":{\"gridcolor\":\"white\",\"linecolor\":\"white\",\"ticks\":\"\"},\"baxis\":{\"gridcolor\":\"white\",\"linecolor\":\"white\",\"ticks\":\"\"},\"caxis\":{\"gridcolor\":\"white\",\"linecolor\":\"white\",\"ticks\":\"\"}},\"coloraxis\":{\"colorbar\":{\"outlinewidth\":0,\"ticks\":\"\"}},\"colorscale\":{\"sequential\":[[0.0,\"#0d0887\"],[0.1111111111111111,\"#46039f\"],[0.2222222222222222,\"#7201a8\"],[0.3333333333333333,\"#9c179e\"],[0.4444444444444444,\"#bd3786\"],[0.5555555555555556,\"#d8576b\"],[0.6666666666666666,\"#ed7953\"],[0.7777777777777778,\"#fb9f3a\"],[0.8888888888888888,\"#fdca26\"],[1.0,\"#f0f921\"]],\"sequentialminus\":[[0.0,\"#0d0887\"],[0.1111111111111111,\"#46039f\"],[0.2222222222222222,\"#7201a8\"],[0.3333333333333333,\"#9c179e\"],[0.4444444444444444,\"#bd3786\"],[0.5555555555555556,\"#d8576b\"],[0.6666666666666666,\"#ed7953\"],[0.7777777777777778,\"#fb9f3a\"],[0.8888888888888888,\"#fdca26\"],[1.0,\"#f0f921\"]],\"diverging\":[[0,\"#8e0152\"],[0.1,\"#c51b7d\"],[0.2,\"#de77ae\"],[0.3,\"#f1b6da\"],[0.4,\"#fde0ef\"],[0.5,\"#f7f7f7\"],[0.6,\"#e6f5d0\"],[0.7,\"#b8e186\"],[0.8,\"#7fbc41\"],[0.9,\"#4d9221\"],[1,\"#276419\"]]},\"xaxis\":{\"gridcolor\":\"white\",\"linecolor\":\"white\",\"ticks\":\"\",\"title\":{\"standoff\":15},\"zerolinecolor\":\"white\",\"automargin\":true,\"zerolinewidth\":2},\"yaxis\":{\"gridcolor\":\"white\",\"linecolor\":\"white\",\"ticks\":\"\",\"title\":{\"standoff\":15},\"zerolinecolor\":\"white\",\"automargin\":true,\"zerolinewidth\":2},\"scene\":{\"xaxis\":{\"backgroundcolor\":\"#E5ECF6\",\"gridcolor\":\"white\",\"linecolor\":\"white\",\"showbackground\":true,\"ticks\":\"\",\"zerolinecolor\":\"white\",\"gridwidth\":2},\"yaxis\":{\"backgroundcolor\":\"#E5ECF6\",\"gridcolor\":\"white\",\"linecolor\":\"white\",\"showbackground\":true,\"ticks\":\"\",\"zerolinecolor\":\"white\",\"gridwidth\":2},\"zaxis\":{\"backgroundcolor\":\"#E5ECF6\",\"gridcolor\":\"white\",\"linecolor\":\"white\",\"showbackground\":true,\"ticks\":\"\",\"zerolinecolor\":\"white\",\"gridwidth\":2}},\"shapedefaults\":{\"line\":{\"color\":\"#2a3f5f\"}},\"annotationdefaults\":{\"arrowcolor\":\"#2a3f5f\",\"arrowhead\":0,\"arrowwidth\":1},\"geo\":{\"bgcolor\":\"white\",\"landcolor\":\"#E5ECF6\",\"subunitcolor\":\"white\",\"showland\":true,\"showlakes\":true,\"lakecolor\":\"white\"},\"title\":{\"x\":0.05},\"mapbox\":{\"style\":\"light\"}}},\"xaxis\":{\"anchor\":\"y\",\"domain\":[0.0,0.31999999999999995],\"title\":{\"text\":\"y\"},\"range\":[0,10],\"showticklabels\":false,\"showgrid\":false},\"yaxis\":{\"anchor\":\"x\",\"domain\":[0.0,0.2866666666666666],\"title\":{\"text\":\"x\"},\"range\":[10,0],\"showticklabels\":false,\"showgrid\":false},\"xaxis2\":{\"anchor\":\"y2\",\"domain\":[0.33999999999999997,0.6599999999999999],\"matches\":\"x\",\"title\":{\"text\":\"y\"},\"range\":[0,10],\"showticklabels\":false,\"showgrid\":false},\"yaxis2\":{\"anchor\":\"x2\",\"domain\":[0.0,0.2866666666666666],\"matches\":\"y\",\"showticklabels\":false,\"range\":[10,0],\"showgrid\":false},\"xaxis3\":{\"anchor\":\"y3\",\"domain\":[0.6799999999999999,0.9999999999999999],\"matches\":\"x\",\"title\":{\"text\":\"y\"},\"range\":[0,10],\"showticklabels\":false,\"showgrid\":false},\"yaxis3\":{\"anchor\":\"x3\",\"domain\":[0.0,0.2866666666666666],\"matches\":\"y\",\"showticklabels\":false,\"range\":[10,0],\"showgrid\":false},\"xaxis4\":{\"anchor\":\"y4\",\"domain\":[0.0,0.31999999999999995],\"matches\":\"x\",\"showticklabels\":false,\"range\":[0,10],\"showgrid\":false},\"yaxis4\":{\"anchor\":\"x4\",\"domain\":[0.35666666666666663,0.6433333333333333],\"matches\":\"y\",\"title\":{\"text\":\"x\"},\"range\":[10,0],\"showticklabels\":false,\"showgrid\":false},\"xaxis5\":{\"anchor\":\"y5\",\"domain\":[0.33999999999999997,0.6599999999999999],\"matches\":\"x\",\"showticklabels\":false,\"range\":[0,10],\"showgrid\":false},\"yaxis5\":{\"anchor\":\"x5\",\"domain\":[0.35666666666666663,0.6433333333333333],\"matches\":\"y\",\"showticklabels\":false,\"range\":[10,0],\"showgrid\":false},\"xaxis6\":{\"anchor\":\"y6\",\"domain\":[0.6799999999999999,0.9999999999999999],\"matches\":\"x\",\"showticklabels\":false,\"range\":[0,10],\"showgrid\":false},\"yaxis6\":{\"anchor\":\"x6\",\"domain\":[0.35666666666666663,0.6433333333333333],\"matches\":\"y\",\"showticklabels\":false,\"range\":[10,0],\"showgrid\":false},\"xaxis7\":{\"anchor\":\"y7\",\"domain\":[0.0,0.31999999999999995],\"matches\":\"x\",\"showticklabels\":false,\"range\":[0,10],\"showgrid\":false},\"yaxis7\":{\"anchor\":\"x7\",\"domain\":[0.7133333333333333,0.9999999999999999],\"matches\":\"y\",\"title\":{\"text\":\"x\"},\"range\":[10,0],\"showticklabels\":false,\"showgrid\":false},\"xaxis8\":{\"anchor\":\"y8\",\"domain\":[0.33999999999999997,0.6599999999999999],\"matches\":\"x\",\"showticklabels\":false,\"range\":[0,10],\"showgrid\":false},\"yaxis8\":{\"anchor\":\"x8\",\"domain\":[0.7133333333333333,0.9999999999999999],\"matches\":\"y\",\"showticklabels\":false,\"range\":[10,0],\"showgrid\":false},\"xaxis9\":{\"anchor\":\"y9\",\"domain\":[0.6799999999999999,0.9999999999999999],\"matches\":\"x\",\"showticklabels\":false,\"range\":[0,10],\"showgrid\":false},\"yaxis9\":{\"anchor\":\"x9\",\"domain\":[0.7133333333333333,0.9999999999999999],\"matches\":\"y\",\"showticklabels\":false,\"range\":[10,0],\"showgrid\":false},\"annotations\":[{\"font\":{},\"showarrow\":false,\"text\":\"bin=6\",\"x\":0.15999999999999998,\"xanchor\":\"center\",\"xref\":\"paper\",\"y\":0.2866666666666666,\"yanchor\":\"bottom\",\"yref\":\"paper\"},{\"font\":{},\"showarrow\":false,\"text\":\"bin=7\",\"x\":0.49999999999999994,\"xanchor\":\"center\",\"xref\":\"paper\",\"y\":0.2866666666666666,\"yanchor\":\"bottom\",\"yref\":\"paper\"},{\"font\":{},\"showarrow\":false,\"text\":\"bin=8\",\"x\":0.8399999999999999,\"xanchor\":\"center\",\"xref\":\"paper\",\"y\":0.2866666666666666,\"yanchor\":\"bottom\",\"yref\":\"paper\"},{\"font\":{},\"showarrow\":false,\"text\":\"bin=3\",\"x\":0.15999999999999998,\"xanchor\":\"center\",\"xref\":\"paper\",\"y\":0.6433333333333333,\"yanchor\":\"bottom\",\"yref\":\"paper\"},{\"font\":{},\"showarrow\":false,\"text\":\"bin=4\",\"x\":0.49999999999999994,\"xanchor\":\"center\",\"xref\":\"paper\",\"y\":0.6433333333333333,\"yanchor\":\"bottom\",\"yref\":\"paper\"},{\"font\":{},\"showarrow\":false,\"text\":\"bin=5\",\"x\":0.8399999999999999,\"xanchor\":\"center\",\"xref\":\"paper\",\"y\":0.6433333333333333,\"yanchor\":\"bottom\",\"yref\":\"paper\"},{\"font\":{},\"showarrow\":false,\"text\":\"bin=0\",\"x\":0.15999999999999998,\"xanchor\":\"center\",\"xref\":\"paper\",\"y\":0.9999999999999999,\"yanchor\":\"bottom\",\"yref\":\"paper\"},{\"font\":{},\"showarrow\":false,\"text\":\"bin=1\",\"x\":0.49999999999999994,\"xanchor\":\"center\",\"xref\":\"paper\",\"y\":0.9999999999999999,\"yanchor\":\"bottom\",\"yref\":\"paper\"},{\"font\":{},\"showarrow\":false,\"text\":\"bin=2\",\"x\":0.8399999999999999,\"xanchor\":\"center\",\"xref\":\"paper\",\"y\":0.9999999999999999,\"yanchor\":\"bottom\",\"yref\":\"paper\"}],\"legend\":{\"title\":{\"text\":\"bin\"},\"tracegroupgap\":0},\"margin\":{\"t\":60},\"height\":900,\"width\":900},                        {\"responsive\": true}                    ).then(function(){\n",
       "                            \n",
       "var gd = document.getElementById('eb704ea6-4d74-43df-937f-5d5f320820c6');\n",
       "var x = new MutationObserver(function (mutations, observer) {{\n",
       "        var display = window.getComputedStyle(gd).display;\n",
       "        if (!display || display === 'none') {{\n",
       "            console.log([gd, 'removed!']);\n",
       "            Plotly.purge(gd);\n",
       "            observer.disconnect();\n",
       "        }}\n",
       "}});\n",
       "\n",
       "// Listen for the removal of the full notebook cells\n",
       "var notebookContainer = gd.closest('#notebook-container');\n",
       "if (notebookContainer) {{\n",
       "    x.observe(notebookContainer, {childList: true});\n",
       "}}\n",
       "\n",
       "// Listen for the clearing of the current output cell\n",
       "var outputEl = gd.closest('.output');\n",
       "if (outputEl) {{\n",
       "    x.observe(outputEl, {childList: true});\n",
       "}}\n",
       "\n",
       "                        })                };                });            </script>        </div>"
      ]
     },
     "metadata": {},
     "output_type": "display_data"
    }
   ],
   "source": [
    "rep = Rep()\n"
   ]
  },
  {
   "cell_type": "code",
   "execution_count": null,
   "id": "a285885c-ad3b-4ed7-8e6d-3fd247ed84fc",
   "metadata": {},
   "outputs": [],
   "source": []
  }
 ],
 "metadata": {
  "kernelspec": {
   "display_name": "Python 3 (ipykernel)",
   "language": "python",
   "name": "python3"
  },
  "language_info": {
   "codemirror_mode": {
    "name": "ipython",
    "version": 3
   },
   "file_extension": ".py",
   "mimetype": "text/x-python",
   "name": "python",
   "nbconvert_exporter": "python",
   "pygments_lexer": "ipython3",
   "version": "3.9.2"
  }
 },
 "nbformat": 4,
 "nbformat_minor": 5
}
